{
  "nbformat": 4,
  "nbformat_minor": 0,
  "metadata": {
    "colab": {
      "provenance": [],
      "authorship_tag": "ABX9TyPqNF5Z652VoT7wxmg2eoS0",
      "include_colab_link": true
    },
    "kernelspec": {
      "name": "python3",
      "display_name": "Python 3"
    },
    "language_info": {
      "name": "python"
    }
  },
  "cells": [
    {
      "cell_type": "markdown",
      "metadata": {
        "id": "view-in-github",
        "colab_type": "text"
      },
      "source": [
        "<a href=\"https://colab.research.google.com/github/Dhawaldwivedi/Bca-5th-sem-AI-mmdu/blob/main/ai-ml1-g2/basic_python_and_conditionals.ipynb\" target=\"_parent\"><img src=\"https://colab.research.google.com/assets/colab-badge.svg\" alt=\"Open In Colab\"/></a>"
      ]
    },
    {
      "cell_type": "code",
      "execution_count": 85,
      "metadata": {
        "id": "iccp_E2PtQo1",
        "colab": {
          "base_uri": "https://localhost:8080/"
        },
        "outputId": "70caa870-206b-4176-db1e-f34988d70d7c"
      },
      "outputs": [
        {
          "output_type": "stream",
          "name": "stdout",
          "text": [
            "hello\n"
          ]
        }
      ],
      "source": [
        "print(\"hello\")"
      ]
    },
    {
      "cell_type": "markdown",
      "source": [
        "# Comments"
      ],
      "metadata": {
        "id": "11C1H0lXk1gZ"
      }
    },
    {
      "cell_type": "code",
      "source": [
        "# single line comment\n",
        "# This is a single line comment"
      ],
      "metadata": {
        "id": "J31lX0TsD8wM"
      },
      "execution_count": 86,
      "outputs": []
    },
    {
      "cell_type": "code",
      "source": [
        "# multi line comment\n",
        "''' this is a\n",
        "  multi line\n",
        "  comment '''\n",
        "print(\"hello\")"
      ],
      "metadata": {
        "id": "ixCaflRLD83l",
        "colab": {
          "base_uri": "https://localhost:8080/"
        },
        "outputId": "ebd6c4aa-92a5-4250-c6d2-345780b47d5d"
      },
      "execution_count": 88,
      "outputs": [
        {
          "output_type": "stream",
          "name": "stdout",
          "text": [
            "hello\n"
          ]
        }
      ]
    },
    {
      "cell_type": "markdown",
      "source": [
        "# Variables"
      ],
      "metadata": {
        "id": "a_Hka5D5lr4k"
      }
    },
    {
      "cell_type": "code",
      "source": [
        "# declaring and assigning variables\n",
        "a = 10\n",
        "print(a)\n"
      ],
      "metadata": {
        "id": "p6W20HHTlvDD",
        "colab": {
          "base_uri": "https://localhost:8080/"
        },
        "outputId": "dfa7a34f-2538-43bb-8932-f0d47a5bea3b"
      },
      "execution_count": 91,
      "outputs": [
        {
          "output_type": "stream",
          "name": "stdout",
          "text": [
            "10\n"
          ]
        }
      ]
    },
    {
      "cell_type": "code",
      "source": [
        "b = 3.4556\n",
        "print(b)"
      ],
      "metadata": {
        "colab": {
          "base_uri": "https://localhost:8080/"
        },
        "id": "ANhuQAmsOt4y",
        "outputId": "0b880ab1-1b80-4cfe-ec08-7b1d6b872c6c"
      },
      "execution_count": 92,
      "outputs": [
        {
          "output_type": "stream",
          "name": "stdout",
          "text": [
            "3.4556\n"
          ]
        }
      ]
    },
    {
      "cell_type": "code",
      "source": [
        "c = \"mmdu\"\n",
        "print(c)"
      ],
      "metadata": {
        "colab": {
          "base_uri": "https://localhost:8080/"
        },
        "id": "Ntg16CxjPAm9",
        "outputId": "8763739f-5b20-46ff-adda-b5a7d08852de"
      },
      "execution_count": 93,
      "outputs": [
        {
          "output_type": "stream",
          "name": "stdout",
          "text": [
            "mmdu\n"
          ]
        }
      ]
    },
    {
      "cell_type": "code",
      "source": [
        "d = False\n",
        "print(d)"
      ],
      "metadata": {
        "colab": {
          "base_uri": "https://localhost:8080/"
        },
        "id": "_U2OU-X3PDSO",
        "outputId": "33a0dcd0-efb7-4caf-b803-cd2e18416238"
      },
      "execution_count": 94,
      "outputs": [
        {
          "output_type": "stream",
          "name": "stdout",
          "text": [
            "False\n"
          ]
        }
      ]
    },
    {
      "cell_type": "code",
      "source": [
        "print(type(a))\n",
        "print(type(b))\n",
        "print(type(c))\n",
        "print(type(d))"
      ],
      "metadata": {
        "colab": {
          "base_uri": "https://localhost:8080/"
        },
        "id": "2WZG4ti9PD27",
        "outputId": "ff7d8311-d11a-419b-b065-0ffb7ee346e0"
      },
      "execution_count": 96,
      "outputs": [
        {
          "output_type": "stream",
          "name": "stdout",
          "text": [
            "<class 'int'>\n",
            "<class 'float'>\n",
            "<class 'str'>\n",
            "<class 'bool'>\n"
          ]
        }
      ]
    },
    {
      "cell_type": "code",
      "source": [
        "# valid invalid variable names\n",
        "1ab = 22\n",
        "print(1ab)"
      ],
      "metadata": {
        "id": "X06VG0KrmVhq",
        "colab": {
          "base_uri": "https://localhost:8080/",
          "height": 111
        },
        "outputId": "d5686d8d-ea0d-4481-c0e0-bfb4db6e7607"
      },
      "execution_count": 99,
      "outputs": [
        {
          "output_type": "error",
          "ename": "SyntaxError",
          "evalue": "invalid decimal literal (ipython-input-3625386655.py, line 2)",
          "traceback": [
            "\u001b[0;36m  File \u001b[0;32m\"/tmp/ipython-input-3625386655.py\"\u001b[0;36m, line \u001b[0;32m2\u001b[0m\n\u001b[0;31m    1ab = 22\u001b[0m\n\u001b[0m    ^\u001b[0m\n\u001b[0;31mSyntaxError\u001b[0m\u001b[0;31m:\u001b[0m invalid decimal literal\n"
          ]
        }
      ]
    },
    {
      "cell_type": "code",
      "source": [
        "# case sensitivity in python\n",
        "name1 = \"Dhawal\"\n",
        "Name1 = \"Dwivedi\"\n",
        "print(Name1)\n",
        "print(name1)"
      ],
      "metadata": {
        "id": "XdoJ6seymbFl",
        "colab": {
          "base_uri": "https://localhost:8080/"
        },
        "outputId": "040aa10b-c9c6-4a27-cc32-d91eba8d3c18"
      },
      "execution_count": 105,
      "outputs": [
        {
          "output_type": "stream",
          "name": "stdout",
          "text": [
            "Dwivedi\n",
            "Dhawal\n"
          ]
        }
      ]
    },
    {
      "cell_type": "code",
      "source": [
        "## Understanding Variable types\n",
        "## Python is dynamically typed,type of a variable is determined at runtime\n",
        "a = \"123\"\n",
        "type(a)\n"
      ],
      "metadata": {
        "id": "wfRnJP1fmvx8",
        "colab": {
          "base_uri": "https://localhost:8080/"
        },
        "outputId": "d6432167-07af-4252-fcb1-0eb8b8c79fe5"
      },
      "execution_count": 110,
      "outputs": [
        {
          "output_type": "execute_result",
          "data": {
            "text/plain": [
              "str"
            ]
          },
          "metadata": {},
          "execution_count": 110
        }
      ]
    },
    {
      "cell_type": "code",
      "source": [
        "# Type Conversion\n",
        "a = 10\n",
        "print(type(a))\n",
        "b = str(a)\n",
        "print(type(b))\n",
        "c = float(a)\n",
        "print(type(c))\n"
      ],
      "metadata": {
        "id": "duKYA6kWmzZu",
        "colab": {
          "base_uri": "https://localhost:8080/"
        },
        "outputId": "697686bb-0900-46d2-b8fc-4301ea117128"
      },
      "execution_count": 114,
      "outputs": [
        {
          "output_type": "stream",
          "name": "stdout",
          "text": [
            "<class 'int'>\n",
            "<class 'str'>\n",
            "<class 'float'>\n"
          ]
        }
      ]
    },
    {
      "cell_type": "code",
      "source": [
        "a =\"gfg\"\n",
        "b = int(a)\n",
        "print(b)"
      ],
      "metadata": {
        "colab": {
          "base_uri": "https://localhost:8080/",
          "height": 185
        },
        "id": "_REZXvhOSPCh",
        "outputId": "ce5ed12f-f065-4dc7-a101-b641c11d6021"
      },
      "execution_count": 115,
      "outputs": [
        {
          "output_type": "error",
          "ename": "ValueError",
          "evalue": "invalid literal for int() with base 10: 'gfg'",
          "traceback": [
            "\u001b[0;31m---------------------------------------------------------------------------\u001b[0m",
            "\u001b[0;31mValueError\u001b[0m                                Traceback (most recent call last)",
            "\u001b[0;32m/tmp/ipython-input-1110132750.py\u001b[0m in \u001b[0;36m<cell line: 0>\u001b[0;34m()\u001b[0m\n\u001b[1;32m      1\u001b[0m \u001b[0ma\u001b[0m \u001b[0;34m=\u001b[0m\u001b[0;34m\"gfg\"\u001b[0m\u001b[0;34m\u001b[0m\u001b[0;34m\u001b[0m\u001b[0m\n\u001b[0;32m----> 2\u001b[0;31m \u001b[0mb\u001b[0m \u001b[0;34m=\u001b[0m \u001b[0mint\u001b[0m\u001b[0;34m(\u001b[0m\u001b[0ma\u001b[0m\u001b[0;34m)\u001b[0m\u001b[0;34m\u001b[0m\u001b[0;34m\u001b[0m\u001b[0m\n\u001b[0m\u001b[1;32m      3\u001b[0m \u001b[0mprint\u001b[0m\u001b[0;34m(\u001b[0m\u001b[0mb\u001b[0m\u001b[0;34m)\u001b[0m\u001b[0;34m\u001b[0m\u001b[0;34m\u001b[0m\u001b[0m\n",
            "\u001b[0;31mValueError\u001b[0m: invalid literal for int() with base 10: 'gfg'"
          ]
        }
      ]
    },
    {
      "cell_type": "code",
      "source": [
        "\n"
      ],
      "metadata": {
        "id": "bHsPHa_iSiSh"
      },
      "execution_count": 69,
      "outputs": []
    },
    {
      "cell_type": "code",
      "source": [],
      "metadata": {
        "id": "qelfTDamTKOm"
      },
      "execution_count": 69,
      "outputs": []
    },
    {
      "cell_type": "code",
      "source": [
        "# variables reinitialization\n",
        "var = 10\n",
        "var = 12.567\n",
        "var = \"hey\"\n",
        "print(var)"
      ],
      "metadata": {
        "id": "kW3cCIasm3Nl",
        "colab": {
          "base_uri": "https://localhost:8080/"
        },
        "outputId": "4984784b-a7e0-4cdd-c37b-03af31d98eff"
      },
      "execution_count": 118,
      "outputs": [
        {
          "output_type": "stream",
          "name": "stdout",
          "text": [
            "hey\n"
          ]
        }
      ]
    },
    {
      "cell_type": "code",
      "source": [
        "# input function\n",
        "v = int(input(\"enter the number \"))\n",
        "print(v)"
      ],
      "metadata": {
        "id": "HM74a3mwnkVe",
        "colab": {
          "base_uri": "https://localhost:8080/"
        },
        "outputId": "ce330286-725d-47e9-e14c-ec7f3fa31804"
      },
      "execution_count": 123,
      "outputs": [
        {
          "output_type": "stream",
          "name": "stdout",
          "text": [
            "enter the number 23\n",
            "23\n"
          ]
        }
      ]
    },
    {
      "cell_type": "code",
      "source": [],
      "metadata": {
        "id": "8fJXuc68npNb"
      },
      "execution_count": 71,
      "outputs": []
    },
    {
      "cell_type": "markdown",
      "source": [
        "# Data Types"
      ],
      "metadata": {
        "id": "QqI8N_gnnrPq"
      }
    },
    {
      "cell_type": "code",
      "source": [
        "# understanding different data types\n",
        "# int\n",
        "# float\n",
        "# bool\n",
        "# string"
      ],
      "metadata": {
        "id": "__l1gvhSoFFA"
      },
      "execution_count": 72,
      "outputs": []
    },
    {
      "cell_type": "code",
      "source": [
        "# adding 2 diff datatype variables\n",
        "a= 45\n",
        "b = 4.67\n",
        "c = a+b\n",
        "print(c)\n",
        "print(type(c))"
      ],
      "metadata": {
        "id": "Qb5xKslroRQD",
        "colab": {
          "base_uri": "https://localhost:8080/"
        },
        "outputId": "cd0ef106-b420-480c-84ee-6a2246a8b0db"
      },
      "execution_count": 124,
      "outputs": [
        {
          "output_type": "stream",
          "name": "stdout",
          "text": [
            "49.67\n",
            "<class 'float'>\n"
          ]
        }
      ]
    },
    {
      "cell_type": "code",
      "source": [
        "a = 2\n",
        "b = \"abc\"\n",
        "c = str(a)+b\n",
        "c"
      ],
      "metadata": {
        "id": "6opHNoPcodpq",
        "colab": {
          "base_uri": "https://localhost:8080/",
          "height": 36
        },
        "outputId": "33133245-ebe7-49d8-afbe-ad0e3ee2bb55"
      },
      "execution_count": 126,
      "outputs": [
        {
          "output_type": "execute_result",
          "data": {
            "text/plain": [
              "'2abc'"
            ],
            "application/vnd.google.colaboratory.intrinsic+json": {
              "type": "string"
            }
          },
          "metadata": {},
          "execution_count": 126
        }
      ]
    },
    {
      "cell_type": "markdown",
      "source": [
        "# Operators"
      ],
      "metadata": {
        "id": "lP16bpW1pAib"
      }
    },
    {
      "cell_type": "code",
      "source": [
        "# Arithmetic Operators\n",
        "# addition\n",
        "# subtraction\n",
        "# multiplication\n",
        "# division\n",
        "# modulus\n",
        "# floor division\n",
        "# exponential\n",
        "a = 12\n",
        "b = 5\n",
        "d = a/b\n",
        "print(d)\n",
        "c = a//b\n",
        "print(c)\n",
        "e = a**b\n",
        "print(e)\n"
      ],
      "metadata": {
        "id": "o9NjcTYhpD7b",
        "colab": {
          "base_uri": "https://localhost:8080/"
        },
        "outputId": "42e9288b-1eb9-499d-bea8-f2be2432ce4a"
      },
      "execution_count": 130,
      "outputs": [
        {
          "output_type": "stream",
          "name": "stdout",
          "text": [
            "2.4\n",
            "2\n",
            "248832\n"
          ]
        }
      ]
    },
    {
      "cell_type": "code",
      "source": [
        "# comparison operators\n",
        "# equals ==\n",
        "# not equals !=\n",
        "# greater than\n",
        "# less than\n",
        "print(a==b)\n",
        "a!=b\n",
        "a>b  # true\n",
        "a<b   # false"
      ],
      "metadata": {
        "id": "4RWB0J6ypcC0",
        "colab": {
          "base_uri": "https://localhost:8080/"
        },
        "outputId": "eff8b2fa-742c-4ac8-adbc-a48d7d1ee901"
      },
      "execution_count": 131,
      "outputs": [
        {
          "output_type": "stream",
          "name": "stdout",
          "text": [
            "False\n"
          ]
        }
      ]
    },
    {
      "cell_type": "code",
      "source": [
        "# logical operators\n",
        "# and\n",
        "# or\n",
        "# not\n",
        "a = True\n",
        "b = False\n",
        "print(a and b)\n",
        "print(a or b)\n",
        "print(not b)"
      ],
      "metadata": {
        "id": "FZYn3B2RrBe9",
        "colab": {
          "base_uri": "https://localhost:8080/"
        },
        "outputId": "8db6d155-a8be-41e8-e119-7fe232c7fc69"
      },
      "execution_count": 135,
      "outputs": [
        {
          "output_type": "stream",
          "name": "stdout",
          "text": [
            "False\n",
            "True\n",
            "True\n"
          ]
        }
      ]
    },
    {
      "cell_type": "markdown",
      "source": [
        "# simple calculator program"
      ],
      "metadata": {
        "id": "F0p8Pa2Sr7aA"
      }
    },
    {
      "cell_type": "code",
      "source": [
        "# create a simple calculator program taking 2 inputs from user and printing different arithemtic outputs"
      ],
      "metadata": {
        "id": "MqZpGPU3soXS"
      },
      "execution_count": 77,
      "outputs": []
    },
    {
      "cell_type": "markdown",
      "source": [
        "# Conditionals"
      ],
      "metadata": {
        "id": "LEGKanWexkui"
      }
    },
    {
      "cell_type": "code",
      "source": [
        "# basics which enables decision making in python"
      ],
      "metadata": {
        "id": "Z1ysObmpxnyc"
      },
      "execution_count": 78,
      "outputs": []
    },
    {
      "cell_type": "code",
      "source": [
        "a = 3\n",
        "if a>5:\n",
        "  print(\"a is greater than 5\")\n",
        "else:\n",
        "  print(\"a is smaller than 5\")\n",
        "\n",
        "\n",
        "\n",
        ""
      ],
      "metadata": {
        "id": "iUsI55RuxteS",
        "colab": {
          "base_uri": "https://localhost:8080/"
        },
        "outputId": "9d3c8348-93cd-4520-fcd8-7ac8c5a07d18"
      },
      "execution_count": 137,
      "outputs": [
        {
          "output_type": "stream",
          "name": "stdout",
          "text": [
            "a is smaller than 5\n"
          ]
        }
      ]
    },
    {
      "cell_type": "code",
      "source": [
        "#Q) Find if the number is even\n"
      ],
      "metadata": {
        "id": "9_k2il0Sxthp"
      },
      "execution_count": 79,
      "outputs": []
    },
    {
      "cell_type": "code",
      "source": [
        "# elif\n",
        "# if condition:\n",
        "    #print(true)\n",
        "# elif conditon2:\n",
        "#    print(true)\n",
        "# else:\n",
        "# print(true)"
      ],
      "metadata": {
        "id": "w4wp3Gkkxvzn"
      },
      "execution_count": 80,
      "outputs": []
    },
    {
      "cell_type": "code",
      "source": [
        "# nested conditonals\n",
        "## number even ,odd,negative\n",
        "a = int(input(\"enter a number \"))\n",
        "if a>0:\n",
        "  if a%2==0:\n",
        "    print(\"even\")\n",
        "  else:\n",
        "    print(\"odd\")\n",
        "else:\n",
        "  print(\"negative\")"
      ],
      "metadata": {
        "id": "Wsf_xnRYxzLq",
        "colab": {
          "base_uri": "https://localhost:8080/"
        },
        "outputId": "42df9dc7-9eae-41df-8ac8-c1abcc6af9d0"
      },
      "execution_count": 139,
      "outputs": [
        {
          "output_type": "stream",
          "name": "stdout",
          "text": [
            "enter a number -3\n",
            "negative\n"
          ]
        }
      ]
    },
    {
      "cell_type": "code",
      "source": [
        "## Simple Calculator program\n",
        "# Take user input for operation"
      ],
      "metadata": {
        "id": "eYdkWjagx2gr"
      },
      "execution_count": 82,
      "outputs": []
    },
    {
      "cell_type": "code",
      "source": [
        " # A simple user login system that checks the username and password.\n",
        "user = \"admin\"\n",
        "password = \"admin@123\""
      ],
      "metadata": {
        "id": "xmodxKADyGhE"
      },
      "execution_count": 83,
      "outputs": []
    },
    {
      "cell_type": "code",
      "source": [
        "# marks baSED ON grade\n",
        "''' 90+ --> A+\n",
        "    80-89 -->A\n",
        "    70-79 --> B\n",
        "    50-69 --> C\n",
        "    below 50 --> D '''"
      ],
      "metadata": {
        "id": "QFpaZy39yIuF",
        "colab": {
          "base_uri": "https://localhost:8080/",
          "height": 36
        },
        "outputId": "6aab42ba-f07d-4492-a25a-ffffe08c12fb"
      },
      "execution_count": 84,
      "outputs": [
        {
          "output_type": "execute_result",
          "data": {
            "text/plain": [
              "' 90+ --> A+\\n    80-89 -->A\\n    70-79 --> B\\n    50-69 --> C\\n    below 50 --> D '"
            ],
            "application/vnd.google.colaboratory.intrinsic+json": {
              "type": "string"
            }
          },
          "metadata": {},
          "execution_count": 84
        }
      ]
    },
    {
      "cell_type": "code",
      "source": [],
      "metadata": {
        "id": "A3ZLlHBDX804"
      },
      "execution_count": 84,
      "outputs": []
    }
  ]
}