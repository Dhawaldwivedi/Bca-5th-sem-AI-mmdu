{
  "nbformat": 4,
  "nbformat_minor": 0,
  "metadata": {
    "colab": {
      "provenance": [],
      "authorship_tag": "ABX9TyO9HzW6DAJWx+W4KZxMr9ii",
      "include_colab_link": true
    },
    "kernelspec": {
      "name": "python3",
      "display_name": "Python 3"
    },
    "language_info": {
      "name": "python"
    }
  },
  "cells": [
    {
      "cell_type": "markdown",
      "metadata": {
        "id": "view-in-github",
        "colab_type": "text"
      },
      "source": [
        "<a href=\"https://colab.research.google.com/github/Dhawaldwivedi/Bca-5th-sem-AI-mmdu/blob/main/ai-ml1-g1/Kmeans_Clustering_using_Iris_Dataset.ipynb\" target=\"_parent\"><img src=\"https://colab.research.google.com/assets/colab-badge.svg\" alt=\"Open In Colab\"/></a>"
      ]
    },
    {
      "cell_type": "code",
      "execution_count": null,
      "metadata": {
        "id": "gU08JiEGyVWI"
      },
      "outputs": [],
      "source": [
        "import pandas as pd\n",
        "import numpy as np\n",
        "from sklearn.datasets import load_iris\n",
        "from sklearn.cluster import KMeans\n",
        "import matplotlib.pyplot as plt\n",
        "import seaborn as sns\n"
      ]
    },
    {
      "cell_type": "code",
      "source": [
        "# Load iris dataset\n",
        "iris = load_iris()\n",
        "df = pd.DataFrame(iris.data, columns=iris.feature_names)\n",
        "\n",
        "print(df.head())\n"
      ],
      "metadata": {
        "id": "wdWMwi0ayY2F"
      },
      "execution_count": null,
      "outputs": []
    },
    {
      "cell_type": "code",
      "source": [
        "# Apply KMeans\n",
        "kmeans = KMeans(n_clusters=3, random_state=42, n_init=10)\n",
        "df['Cluster'] = kmeans.fit_predict(df)\n",
        "\n",
        "# Show cluster assignments\n",
        "print(df.head(10))\n"
      ],
      "metadata": {
        "id": "ySBuj9MdygX2"
      },
      "execution_count": null,
      "outputs": []
    },
    {
      "cell_type": "code",
      "source": [
        "df['Actual'] = iris.target\n",
        "print(df[['Cluster', 'Actual']].head(10))\n"
      ],
      "metadata": {
        "id": "-db-0Oo3ymcw"
      },
      "execution_count": null,
      "outputs": []
    },
    {
      "cell_type": "code",
      "source": [
        "plt.figure(figsize=(8,6))\n",
        "sns.scatterplot(\n",
        "    x=df['petal length (cm)'],\n",
        "    y=df['petal width (cm)'],\n",
        "    hue=df['Cluster'],\n",
        "    palette='viridis',\n",
        "    s=80\n",
        ")\n",
        "\n",
        "# Mark centroids\n",
        "centroids = kmeans.cluster_centers_\n",
        "plt.scatter(\n",
        "    centroids[:,2], centroids[:,3],\n",
        "    c='red', s=200, marker='X', label='Centroids'\n",
        ")\n",
        "\n",
        "plt.title(\"K-Means Clustering on Iris Dataset\")\n",
        "plt.legend()\n",
        "plt.show()\n"
      ],
      "metadata": {
        "id": "2j5ifPVLytS3"
      },
      "execution_count": null,
      "outputs": []
    },
    {
      "cell_type": "code",
      "source": [
        "from sklearn.metrics import silhouette_score\n",
        "\n",
        "score = silhouette_score(iris.data, df['Cluster'])\n",
        "print(\"Silhouette Score:\", score)\n"
      ],
      "metadata": {
        "id": "xDF6MUmZy2Si"
      },
      "execution_count": null,
      "outputs": []
    },
    {
      "cell_type": "code",
      "source": [
        "wcss = []\n",
        "\n",
        "for k in range(1, 11):\n",
        "    kmeans = KMeans(n_clusters=k, random_state=42, n_init=10)\n",
        "    kmeans.fit(iris.data)\n",
        "    wcss.append(kmeans.inertia_)  # inertia = WCSS\n",
        "\n",
        "# Plot the Elbow Curve\n",
        "plt.figure(figsize=(8,6))\n",
        "plt.plot(range(1, 11), wcss, marker='o')\n",
        "plt.title('Elbow Method for Optimal K')\n",
        "plt.xlabel('Number of Clusters (K)')\n",
        "plt.ylabel('WCSS (Inertia)')\n",
        "plt.show()\n"
      ],
      "metadata": {
        "id": "pa_VmKtEo0ji"
      },
      "execution_count": null,
      "outputs": []
    }
  ]
}