{
  "nbformat": 4,
  "nbformat_minor": 0,
  "metadata": {
    "colab": {
      "provenance": [],
      "authorship_tag": "ABX9TyMA3EgWi9tNGMTcKKhpaMod",
      "include_colab_link": true
    },
    "kernelspec": {
      "name": "python3",
      "display_name": "Python 3"
    },
    "language_info": {
      "name": "python"
    }
  },
  "cells": [
    {
      "cell_type": "markdown",
      "metadata": {
        "id": "view-in-github",
        "colab_type": "text"
      },
      "source": [
        "<a href=\"https://colab.research.google.com/github/Dhawaldwivedi/Bca-5th-sem-AI-mmdu/blob/main/ai-ml2-g2/Loops_data_structures_and_numpy.ipynb\" target=\"_parent\"><img src=\"https://colab.research.google.com/assets/colab-badge.svg\" alt=\"Open In Colab\"/></a>"
      ]
    },
    {
      "cell_type": "code",
      "execution_count": 1,
      "metadata": {
        "id": "YGQBfX48O7zA",
        "colab": {
          "base_uri": "https://localhost:8080/"
        },
        "outputId": "e5e8705d-0f9f-4b80-f901-946e8826abb3"
      },
      "outputs": [
        {
          "output_type": "execute_result",
          "data": {
            "text/plain": [
              "range(0, 5)"
            ]
          },
          "metadata": {},
          "execution_count": 1
        }
      ],
      "source": [
        "range(5)"
      ]
    },
    {
      "cell_type": "markdown",
      "source": [
        "# Loops"
      ],
      "metadata": {
        "id": "YMSNhOOgPJ3c"
      }
    },
    {
      "cell_type": "code",
      "source": [
        "## for loop\n",
        "for i in range(5):\n",
        "  print(i)\n"
      ],
      "metadata": {
        "colab": {
          "base_uri": "https://localhost:8080/"
        },
        "id": "HQthqO0JPNrT",
        "outputId": "4b53e644-8a19-43bd-8294-481ea1a83cde"
      },
      "execution_count": 2,
      "outputs": [
        {
          "output_type": "stream",
          "name": "stdout",
          "text": [
            "0\n",
            "1\n",
            "2\n",
            "3\n",
            "4\n"
          ]
        }
      ]
    },
    {
      "cell_type": "code",
      "source": [
        "# step size\n",
        "for i in range(1,11,2):\n",
        "  print(i)"
      ],
      "metadata": {
        "colab": {
          "base_uri": "https://localhost:8080/"
        },
        "id": "LJUFAv-BPRl0",
        "outputId": "aad18fd0-5cfa-432e-8de9-df1571c71d73"
      },
      "execution_count": 4,
      "outputs": [
        {
          "output_type": "stream",
          "name": "stdout",
          "text": [
            "1\n",
            "3\n",
            "5\n",
            "7\n",
            "9\n"
          ]
        }
      ]
    },
    {
      "cell_type": "code",
      "source": [
        "for i in range(2,11):\n",
        "  print(i)"
      ],
      "metadata": {
        "colab": {
          "base_uri": "https://localhost:8080/"
        },
        "id": "iDo0cTOWNhPO",
        "outputId": "f4c9fb10-2884-4102-bac3-1a0477c39d28"
      },
      "execution_count": 3,
      "outputs": [
        {
          "output_type": "stream",
          "name": "stdout",
          "text": [
            "2\n",
            "3\n",
            "4\n",
            "5\n",
            "6\n",
            "7\n",
            "8\n",
            "9\n",
            "10\n"
          ]
        }
      ]
    },
    {
      "cell_type": "code",
      "source": [
        "# for loop through string\n",
        "s = \"hello world\"\n",
        "for i in s:\n",
        "  print(i)"
      ],
      "metadata": {
        "colab": {
          "base_uri": "https://localhost:8080/"
        },
        "id": "vVMfh99HPWxQ",
        "outputId": "5937c09f-4a62-4b53-b45e-59f3570dfee3"
      },
      "execution_count": 5,
      "outputs": [
        {
          "output_type": "stream",
          "name": "stdout",
          "text": [
            "h\n",
            "e\n",
            "l\n",
            "l\n",
            "o\n",
            " \n",
            "w\n",
            "o\n",
            "r\n",
            "l\n",
            "d\n"
          ]
        }
      ]
    },
    {
      "cell_type": "code",
      "source": [
        "# while loop\n",
        "count = 0\n",
        "while count<5:\n",
        "  print(count)\n",
        "  count= count+1"
      ],
      "metadata": {
        "colab": {
          "base_uri": "https://localhost:8080/"
        },
        "id": "g7RaduzjPe9W",
        "outputId": "b9b55c9b-65cd-4af1-816f-053657f6f9cc"
      },
      "execution_count": 6,
      "outputs": [
        {
          "output_type": "stream",
          "name": "stdout",
          "text": [
            "0\n",
            "1\n",
            "2\n",
            "3\n",
            "4\n"
          ]
        }
      ]
    },
    {
      "cell_type": "code",
      "source": [
        "# break statements\n",
        "for i in range(20):\n",
        "  print(i)\n",
        "  if i==5:\n",
        "    break"
      ],
      "metadata": {
        "colab": {
          "base_uri": "https://localhost:8080/"
        },
        "id": "W5qtv0BdP5nx",
        "outputId": "dc57f13c-c43b-4bd7-e910-b024c193fb05"
      },
      "execution_count": 8,
      "outputs": [
        {
          "output_type": "stream",
          "name": "stdout",
          "text": [
            "0\n",
            "1\n",
            "2\n",
            "3\n",
            "4\n",
            "5\n"
          ]
        }
      ]
    },
    {
      "cell_type": "code",
      "source": [
        "# continue\n",
        "for i in range(10):\n",
        "  if i==5:\n",
        "    continue\n",
        "  print(i)\n",
        ""
      ],
      "metadata": {
        "id": "FkuNEwIpQEKN",
        "colab": {
          "base_uri": "https://localhost:8080/"
        },
        "outputId": "938eb20a-f80d-41ca-cd5a-d8666815cfd9"
      },
      "execution_count": 14,
      "outputs": [
        {
          "output_type": "stream",
          "name": "stdout",
          "text": [
            "0\n",
            "1\n",
            "2\n",
            "3\n",
            "4\n",
            "6\n",
            "7\n",
            "8\n",
            "9\n"
          ]
        }
      ]
    },
    {
      "cell_type": "code",
      "source": [
        "## Nested loopss\n",
        "## a loop inside a loop\n",
        "\n",
        "for i in range(3):\n",
        "    for j in range(2):\n",
        "        print(f\"i:{i} and j:{j}\")"
      ],
      "metadata": {
        "colab": {
          "base_uri": "https://localhost:8080/"
        },
        "id": "k6SfAdvfQN8w",
        "outputId": "33f60304-6694-4714-b434-e0aebdaa7ee5"
      },
      "execution_count": null,
      "outputs": [
        {
          "output_type": "stream",
          "name": "stdout",
          "text": [
            "i:0 and j:0\n",
            "i:0 and j:1\n",
            "i:1 and j:0\n",
            "i:1 and j:1\n",
            "i:2 and j:0\n",
            "i:2 and j:1\n"
          ]
        }
      ]
    },
    {
      "cell_type": "code",
      "source": [
        "i = 10\n",
        "j = 23\n",
        "print(f\"value of i is {i} and value of j is {j}\")"
      ],
      "metadata": {
        "colab": {
          "base_uri": "https://localhost:8080/"
        },
        "id": "VCSNuTxsPzM-",
        "outputId": "3d38733c-2750-4212-a67a-1db1fd158da4"
      },
      "execution_count": 15,
      "outputs": [
        {
          "output_type": "stream",
          "name": "stdout",
          "text": [
            "value of i is 10 and value of j is 23\n"
          ]
        }
      ]
    },
    {
      "cell_type": "code",
      "source": [
        "## Example- Prime numbers between 1 and 100"
      ],
      "metadata": {
        "id": "6OXvChjNQSB5"
      },
      "execution_count": null,
      "outputs": []
    },
    {
      "cell_type": "code",
      "source": [
        "''' *****\n",
        "    *****\n",
        "    *****\n",
        "    *****\n",
        "    *****  '''\n",
        "rows = 5\n",
        "for i in range(rows):\n",
        "  for j in range(rows):\n",
        "    print(\"*\",end = \"\")\n",
        "  print()\n",
        "\n",
        "''' *\n",
        "    **\n",
        "    ***\n",
        "    ****\n",
        "    *****  '''\n",
        "for i in range(rows):\n",
        "  for j in range(i):\n",
        "        print(\"*\",end = \"\")\n",
        "  print()\n"
      ],
      "metadata": {
        "colab": {
          "base_uri": "https://localhost:8080/"
        },
        "id": "V_ifZqzjQgOm",
        "outputId": "2aa10390-1d89-4220-8bbb-154b18c43fe5"
      },
      "execution_count": 19,
      "outputs": [
        {
          "output_type": "stream",
          "name": "stdout",
          "text": [
            "*****\n",
            "*****\n",
            "*****\n",
            "*****\n",
            "*****\n",
            "\n",
            "*\n",
            "**\n",
            "***\n",
            "****\n"
          ]
        }
      ]
    },
    {
      "cell_type": "markdown",
      "source": [],
      "metadata": {
        "id": "HWaHVoTmQ1bB"
      }
    },
    {
      "cell_type": "code",
      "source": [
        "'''  *****\n",
        "     ****\n",
        "     ***\n",
        "     **\n",
        "     *  '''"
      ],
      "metadata": {
        "colab": {
          "base_uri": "https://localhost:8080/",
          "height": 36
        },
        "id": "tJ4fWLU5QZa3",
        "outputId": "b09d4d6c-1c33-4408-d801-9722f2d7fa33"
      },
      "execution_count": null,
      "outputs": [
        {
          "output_type": "execute_result",
          "data": {
            "text/plain": [
              "'  *****\\n     ****\\n     ***\\n     **\\n     *  '"
            ],
            "application/vnd.google.colaboratory.intrinsic+json": {
              "type": "string"
            }
          },
          "metadata": {},
          "execution_count": 11
        }
      ]
    },
    {
      "cell_type": "code",
      "source": [],
      "metadata": {
        "id": "Eb8vl6xDRHEC"
      },
      "execution_count": null,
      "outputs": []
    },
    {
      "cell_type": "markdown",
      "source": [
        "# Data Structures"
      ],
      "metadata": {
        "id": "dSmJUPg3RLdB"
      }
    },
    {
      "cell_type": "code",
      "source": [
        "lst=[]\n",
        "print(type(lst))"
      ],
      "metadata": {
        "colab": {
          "base_uri": "https://localhost:8080/"
        },
        "id": "BTpYVJdhRO8t",
        "outputId": "053f988d-ccd4-47c5-cd86-e12449ef5983"
      },
      "execution_count": 20,
      "outputs": [
        {
          "output_type": "stream",
          "name": "stdout",
          "text": [
            "<class 'list'>\n"
          ]
        }
      ]
    },
    {
      "cell_type": "code",
      "source": [
        "### Accessing List Elements\n",
        "\n",
        "fruits=[\"apple\",\"banana\",\"cherry\",\"kiwi\",\"gauva\"]"
      ],
      "metadata": {
        "id": "fGh9wi44RWyR"
      },
      "execution_count": 26,
      "outputs": []
    },
    {
      "cell_type": "code",
      "source": [
        "print(fruits[0])\n",
        "print(fruits[2])\n",
        "print(fruits[4])\n",
        "print(fruits[-1])"
      ],
      "metadata": {
        "colab": {
          "base_uri": "https://localhost:8080/"
        },
        "id": "A1MpDo9IR_8O",
        "outputId": "4b6a64e0-5dbf-4e9f-89fb-2a524432d7e7"
      },
      "execution_count": 27,
      "outputs": [
        {
          "output_type": "stream",
          "name": "stdout",
          "text": [
            "apple\n",
            "cherry\n",
            "gauva\n",
            "gauva\n"
          ]
        }
      ]
    },
    {
      "cell_type": "code",
      "source": [
        "## Modifying The List elements\n",
        "fruits[1]=\"watermelon\"\n",
        "print(fruits)"
      ],
      "metadata": {
        "colab": {
          "base_uri": "https://localhost:8080/"
        },
        "id": "gVbGpmrlSBv_",
        "outputId": "ab8e8328-04f2-44c3-b4f4-9e907bd07698"
      },
      "execution_count": 28,
      "outputs": [
        {
          "output_type": "stream",
          "name": "stdout",
          "text": [
            "['apple', 'watermelon', 'cherry', 'kiwi', 'gauva']\n"
          ]
        }
      ]
    },
    {
      "cell_type": "code",
      "source": [
        "## List Methods\n",
        "\n",
        "fruits.append(\"orange\")\n",
        "print(fruits)"
      ],
      "metadata": {
        "colab": {
          "base_uri": "https://localhost:8080/"
        },
        "id": "CmRYwq9dSHlD",
        "outputId": "6a6f101a-f140-404e-e5a3-5a6c88e9e9a8"
      },
      "execution_count": 29,
      "outputs": [
        {
          "output_type": "stream",
          "name": "stdout",
          "text": [
            "['apple', 'watermelon', 'cherry', 'kiwi', 'gauva', 'orange']\n"
          ]
        }
      ]
    },
    {
      "cell_type": "code",
      "source": [
        "fruits.insert(1,\"watermelon\")\n",
        "print(fruits)"
      ],
      "metadata": {
        "colab": {
          "base_uri": "https://localhost:8080/"
        },
        "id": "cTIx3wjZSNX1",
        "outputId": "489787a0-513c-4157-f858-17f55dac3c8f"
      },
      "execution_count": 30,
      "outputs": [
        {
          "output_type": "stream",
          "name": "stdout",
          "text": [
            "['apple', 'watermelon', 'watermelon', 'cherry', 'kiwi', 'gauva', 'orange']\n"
          ]
        }
      ]
    },
    {
      "cell_type": "code",
      "source": [
        "fruits.remove(\"watermelon\") ## Removing the first occurance of an item\n",
        "print(fruits)"
      ],
      "metadata": {
        "colab": {
          "base_uri": "https://localhost:8080/"
        },
        "id": "YDffWz_zSPHe",
        "outputId": "81551a9e-c0f7-4a04-99d9-1a44dd256dfe"
      },
      "execution_count": 31,
      "outputs": [
        {
          "output_type": "stream",
          "name": "stdout",
          "text": [
            "['apple', 'watermelon', 'cherry', 'kiwi', 'gauva', 'orange']\n"
          ]
        }
      ]
    },
    {
      "cell_type": "code",
      "source": [
        "## Remove and return the last element\n",
        "popped_fruits=fruits.pop()\n",
        "print(popped_fruits)\n",
        "print(fruits)"
      ],
      "metadata": {
        "colab": {
          "base_uri": "https://localhost:8080/"
        },
        "id": "dyxjXzTVSRdY",
        "outputId": "30f058d1-46eb-4454-f41e-46ce8dcf0c56"
      },
      "execution_count": 32,
      "outputs": [
        {
          "output_type": "stream",
          "name": "stdout",
          "text": [
            "orange\n",
            "['apple', 'watermelon', 'cherry', 'kiwi', 'gauva']\n"
          ]
        }
      ]
    },
    {
      "cell_type": "code",
      "source": [
        "index=fruits.index(\"cherry\")\n",
        "print(index)"
      ],
      "metadata": {
        "colab": {
          "base_uri": "https://localhost:8080/"
        },
        "id": "6SxXXhNuSYp7",
        "outputId": "40fb018c-00ae-4595-938e-fa8c932b841a"
      },
      "execution_count": null,
      "outputs": [
        {
          "output_type": "stream",
          "name": "stdout",
          "text": [
            "3\n"
          ]
        }
      ]
    },
    {
      "cell_type": "code",
      "source": [
        "fruits.sort()\n",
        "fruits"
      ],
      "metadata": {
        "id": "z4sY8E3kSbVX",
        "colab": {
          "base_uri": "https://localhost:8080/"
        },
        "outputId": "2bd7711c-24f5-4440-da37-323f319268d1"
      },
      "execution_count": 33,
      "outputs": [
        {
          "output_type": "execute_result",
          "data": {
            "text/plain": [
              "['apple', 'cherry', 'gauva', 'kiwi', 'watermelon']"
            ]
          },
          "metadata": {},
          "execution_count": 33
        }
      ]
    },
    {
      "cell_type": "code",
      "source": [
        "fruits.reverse()\n",
        "fruits ## REverse the list"
      ],
      "metadata": {
        "id": "9kJC-s7NSsP3",
        "colab": {
          "base_uri": "https://localhost:8080/"
        },
        "outputId": "c57a3844-8d52-4451-82b0-c3599f5b3444"
      },
      "execution_count": 34,
      "outputs": [
        {
          "output_type": "execute_result",
          "data": {
            "text/plain": [
              "['watermelon', 'kiwi', 'gauva', 'cherry', 'apple']"
            ]
          },
          "metadata": {},
          "execution_count": 34
        }
      ]
    },
    {
      "cell_type": "code",
      "source": [
        "fruits.clear() ## Remove all items from the list\n",
        "\n",
        "print(fruits)"
      ],
      "metadata": {
        "colab": {
          "base_uri": "https://localhost:8080/"
        },
        "id": "fBmzA9y9SuXM",
        "outputId": "55742d97-e767-473b-8a43-349eaf040a39"
      },
      "execution_count": 35,
      "outputs": [
        {
          "output_type": "stream",
          "name": "stdout",
          "text": [
            "[]\n"
          ]
        }
      ]
    },
    {
      "cell_type": "code",
      "source": [
        "## List comprehension\n",
        "\n",
        "[x**2 for x in range(10)]"
      ],
      "metadata": {
        "colab": {
          "base_uri": "https://localhost:8080/"
        },
        "id": "4BTTox1xSwwN",
        "outputId": "0727af6d-60c8-4dde-ed22-57ecf4e66a32"
      },
      "execution_count": 36,
      "outputs": [
        {
          "output_type": "execute_result",
          "data": {
            "text/plain": [
              "[0, 1, 4, 9, 16, 25, 36, 49, 64, 81]"
            ]
          },
          "metadata": {},
          "execution_count": 36
        }
      ]
    },
    {
      "cell_type": "markdown",
      "source": [
        "Tuples"
      ],
      "metadata": {
        "id": "sN1Eg3NOV9Yo"
      }
    },
    {
      "cell_type": "code",
      "source": [],
      "metadata": {
        "id": "jrWnI1IOTgwV",
        "colab": {
          "base_uri": "https://localhost:8080/"
        },
        "outputId": "7740ab6d-e2ee-4475-e913-6d1ab68c04d3"
      },
      "execution_count": 37,
      "outputs": [
        {
          "output_type": "execute_result",
          "data": {
            "text/plain": [
              "[12, 3, 4]"
            ]
          },
          "metadata": {},
          "execution_count": 37
        }
      ]
    },
    {
      "cell_type": "code",
      "source": [
        "numbers=tuple([1,2,3,4,5,6])\n",
        "numbers"
      ],
      "metadata": {
        "colab": {
          "base_uri": "https://localhost:8080/"
        },
        "id": "72KNZ7sTWECH",
        "outputId": "5d597841-69ee-4161-b985-1b10c9a46d30"
      },
      "execution_count": 38,
      "outputs": [
        {
          "output_type": "execute_result",
          "data": {
            "text/plain": [
              "(1, 2, 3, 4, 5, 6)"
            ]
          },
          "metadata": {},
          "execution_count": 38
        }
      ]
    },
    {
      "cell_type": "code",
      "source": [
        "mixed_tuple=(1,\"Hello World\",3.14, True)\n",
        "print(mixed_tuple)"
      ],
      "metadata": {
        "colab": {
          "base_uri": "https://localhost:8080/"
        },
        "id": "k5EAD794WEZr",
        "outputId": "61b45817-8936-4a49-e8db-8324d10f4cde"
      },
      "execution_count": null,
      "outputs": [
        {
          "output_type": "stream",
          "name": "stdout",
          "text": [
            "(1, 'Hello World', 3.14, True)\n"
          ]
        }
      ]
    },
    {
      "cell_type": "code",
      "source": [
        "print(numbers[2])\n",
        "print(numbers[-1])"
      ],
      "metadata": {
        "colab": {
          "base_uri": "https://localhost:8080/"
        },
        "id": "Jz8KbLCvWG8-",
        "outputId": "29b48fd1-ecdb-429c-d4a1-4cccfe1a4546"
      },
      "execution_count": null,
      "outputs": [
        {
          "output_type": "stream",
          "name": "stdout",
          "text": [
            "3\n",
            "6\n"
          ]
        }
      ]
    },
    {
      "cell_type": "code",
      "source": [
        "## Tuple Operations\n",
        "\n",
        "concatenation_tuple=numbers + mixed_tuple\n",
        "print(concatenation_tuple)"
      ],
      "metadata": {
        "colab": {
          "base_uri": "https://localhost:8080/"
        },
        "id": "GT1Wep0wWJ9A",
        "outputId": "a6b02c48-e7cd-4c3c-c6ae-3de86ca36d96"
      },
      "execution_count": null,
      "outputs": [
        {
          "output_type": "stream",
          "name": "stdout",
          "text": [
            "(1, 2, 3, 4, 5, 6, 1, 'Hello World', 3.14, True)\n"
          ]
        }
      ]
    },
    {
      "cell_type": "code",
      "source": [
        "lst=[1,2,3,4,5]\n",
        "print(lst)\n",
        "\n",
        "lst[1]=\"Krish\"\n",
        "print(lst)"
      ],
      "metadata": {
        "colab": {
          "base_uri": "https://localhost:8080/"
        },
        "id": "7KfQB_IiWNhs",
        "outputId": "7e0ad62d-6e9f-4222-e715-fefef022d430"
      },
      "execution_count": null,
      "outputs": [
        {
          "output_type": "stream",
          "name": "stdout",
          "text": [
            "[1, 2, 3, 4, 5]\n",
            "[1, 'Krish', 3, 4, 5]\n"
          ]
        }
      ]
    },
    {
      "cell_type": "code",
      "source": [
        "numbers[1]=\"Krish\""
      ],
      "metadata": {
        "colab": {
          "base_uri": "https://localhost:8080/",
          "height": 148
        },
        "id": "MPPcsq_lWRVc",
        "outputId": "dc44ff24-1770-4fda-ee13-092ba4bade25"
      },
      "execution_count": null,
      "outputs": [
        {
          "output_type": "error",
          "ename": "TypeError",
          "evalue": "'tuple' object does not support item assignment",
          "traceback": [
            "\u001b[0;31m---------------------------------------------------------------------------\u001b[0m",
            "\u001b[0;31mTypeError\u001b[0m                                 Traceback (most recent call last)",
            "\u001b[0;32m/tmp/ipython-input-1229818880.py\u001b[0m in \u001b[0;36m<cell line: 0>\u001b[0;34m()\u001b[0m\n\u001b[0;32m----> 1\u001b[0;31m \u001b[0mnumbers\u001b[0m\u001b[0;34m[\u001b[0m\u001b[0;36m1\u001b[0m\u001b[0;34m]\u001b[0m\u001b[0;34m=\u001b[0m\u001b[0;34m\"Krish\"\u001b[0m\u001b[0;34m\u001b[0m\u001b[0;34m\u001b[0m\u001b[0m\n\u001b[0m",
            "\u001b[0;31mTypeError\u001b[0m: 'tuple' object does not support item assignment"
          ]
        }
      ]
    },
    {
      "cell_type": "code",
      "source": [
        "## Packing and Unpacking tuple\n",
        "## packing\n",
        "packed_tuple=1,\"Hello\",3.14\n",
        "print(packed_tuple)"
      ],
      "metadata": {
        "colab": {
          "base_uri": "https://localhost:8080/"
        },
        "id": "ySAZLoX0WT5y",
        "outputId": "7e675567-5233-4657-8351-bcd9b6119f08"
      },
      "execution_count": null,
      "outputs": [
        {
          "output_type": "stream",
          "name": "stdout",
          "text": [
            "(1, 'Hello', 3.14)\n"
          ]
        }
      ]
    },
    {
      "cell_type": "code",
      "source": [
        "##unpacking a tuple\n",
        "a,b,c=packed_tuple\n",
        "\n",
        "print(a)\n",
        "print(b)\n",
        "print(c)"
      ],
      "metadata": {
        "colab": {
          "base_uri": "https://localhost:8080/"
        },
        "id": "BZw3NrmWWeHV",
        "outputId": "69382a13-7982-4af5-c565-d72f3f03fb6d"
      },
      "execution_count": null,
      "outputs": [
        {
          "output_type": "stream",
          "name": "stdout",
          "text": [
            "1\n",
            "Hello\n",
            "3.14\n"
          ]
        }
      ]
    },
    {
      "cell_type": "code",
      "source": [
        "## Unpacking with *\n",
        "numbers=(1,2,3,4,5,6)\n",
        "first,*middle,last=numbers\n",
        "print(first)\n",
        "print(middle)\n",
        "print(last)"
      ],
      "metadata": {
        "colab": {
          "base_uri": "https://localhost:8080/"
        },
        "id": "qWBwEFXMWg_b",
        "outputId": "54c1ddd5-ca16-4b2c-9596-5fc48da4c949"
      },
      "execution_count": null,
      "outputs": [
        {
          "output_type": "stream",
          "name": "stdout",
          "text": [
            "1\n",
            "[2, 3, 4, 5]\n",
            "6\n"
          ]
        }
      ]
    },
    {
      "cell_type": "code",
      "source": [
        "## Nested List\n",
        "lst=[[1,2,3,4],[6,7,8,9],[1,\"Hello\",3.14,\"c\"]]\n",
        "lst[0][0:3]"
      ],
      "metadata": {
        "colab": {
          "base_uri": "https://localhost:8080/"
        },
        "id": "foB5geqbWjBq",
        "outputId": "4948168c-60a7-47d0-dd80-03594121fd47"
      },
      "execution_count": 40,
      "outputs": [
        {
          "output_type": "execute_result",
          "data": {
            "text/plain": [
              "[1, 2, 3]"
            ]
          },
          "metadata": {},
          "execution_count": 40
        }
      ]
    },
    {
      "cell_type": "code",
      "source": [
        "nested_tuple = ((1, 2, 3), (\"a\", \"b\", \"c\"), (True, False))\n",
        "\n",
        "## access the elements inside a tuple\n",
        "print(nested_tuple[0])\n",
        "print(nested_tuple[1][2])"
      ],
      "metadata": {
        "colab": {
          "base_uri": "https://localhost:8080/"
        },
        "id": "xaygfIqfXJFY",
        "outputId": "b4c72e4a-63d6-4be2-d3d5-dc7359674dd2"
      },
      "execution_count": null,
      "outputs": [
        {
          "output_type": "stream",
          "name": "stdout",
          "text": [
            "(1, 2, 3)\n",
            "c\n"
          ]
        }
      ]
    },
    {
      "cell_type": "markdown",
      "source": [
        "Sets"
      ],
      "metadata": {
        "id": "iDC8Te_nXTVs"
      }
    },
    {
      "cell_type": "code",
      "source": [
        "my_set={1,2,3,4,5} # if empty its a dict\n",
        "print(my_set)\n",
        "print(type(my_set))"
      ],
      "metadata": {
        "colab": {
          "base_uri": "https://localhost:8080/"
        },
        "id": "zr3WOpHFXNaA",
        "outputId": "c121e80c-a3b6-4203-b2aa-5d29fa7f8718"
      },
      "execution_count": 43,
      "outputs": [
        {
          "output_type": "stream",
          "name": "stdout",
          "text": [
            "{1, 2, 3, 4, 5}\n",
            "<class 'set'>\n"
          ]
        }
      ]
    },
    {
      "cell_type": "code",
      "source": [
        "my_empty_set=set([1,2,3,6,5,4,5,6]) # Contains unique values\n",
        "print(my_empty_set)"
      ],
      "metadata": {
        "id": "gVHu0O9DXdKB",
        "colab": {
          "base_uri": "https://localhost:8080/"
        },
        "outputId": "abae4040-5943-48ee-c0e5-390b736e2a4a"
      },
      "execution_count": 41,
      "outputs": [
        {
          "output_type": "stream",
          "name": "stdout",
          "text": [
            "{1, 2, 3, 4, 5, 6}\n"
          ]
        }
      ]
    },
    {
      "cell_type": "code",
      "source": [
        "## Basics Sets Operation\n",
        "## Adiing and Removing Elements\n",
        "my_set.add(7)\n",
        "print(my_set)\n",
        "my_set.add(7)\n",
        "print(my_set)"
      ],
      "metadata": {
        "id": "AA0W5KLfXgfi",
        "colab": {
          "base_uri": "https://localhost:8080/"
        },
        "outputId": "10c3c0c0-1f3d-4502-8b40-9233bb79cdba"
      },
      "execution_count": 44,
      "outputs": [
        {
          "output_type": "stream",
          "name": "stdout",
          "text": [
            "{1, 2, 3, 4, 5, 7}\n",
            "{1, 2, 3, 4, 5, 7}\n"
          ]
        }
      ]
    },
    {
      "cell_type": "code",
      "source": [
        "# remove\n",
        "my_set.remove(6)\n",
        "my_set"
      ],
      "metadata": {
        "id": "IHNMqpXGXmaM",
        "colab": {
          "base_uri": "https://localhost:8080/",
          "height": 185
        },
        "outputId": "7fa648d3-90d5-43cf-8a54-0baf37d40d72"
      },
      "execution_count": 46,
      "outputs": [
        {
          "output_type": "error",
          "ename": "KeyError",
          "evalue": "6",
          "traceback": [
            "\u001b[0;31m---------------------------------------------------------------------------\u001b[0m",
            "\u001b[0;31mKeyError\u001b[0m                                  Traceback (most recent call last)",
            "\u001b[0;32m/tmp/ipython-input-861095791.py\u001b[0m in \u001b[0;36m<cell line: 0>\u001b[0;34m()\u001b[0m\n\u001b[1;32m      1\u001b[0m \u001b[0;31m# remove\u001b[0m\u001b[0;34m\u001b[0m\u001b[0;34m\u001b[0m\u001b[0m\n\u001b[0;32m----> 2\u001b[0;31m \u001b[0mmy_set\u001b[0m\u001b[0;34m.\u001b[0m\u001b[0mremove\u001b[0m\u001b[0;34m(\u001b[0m\u001b[0;36m6\u001b[0m\u001b[0;34m)\u001b[0m\u001b[0;34m\u001b[0m\u001b[0;34m\u001b[0m\u001b[0m\n\u001b[0m\u001b[1;32m      3\u001b[0m \u001b[0mmy_set\u001b[0m\u001b[0;34m\u001b[0m\u001b[0;34m\u001b[0m\u001b[0m\n",
            "\u001b[0;31mKeyError\u001b[0m: 6"
          ]
        }
      ]
    },
    {
      "cell_type": "code",
      "source": [
        "#discard\n",
        "my_set.discard(7)\n",
        "my_set"
      ],
      "metadata": {
        "id": "AaUzcgaRXoh8",
        "colab": {
          "base_uri": "https://localhost:8080/"
        },
        "outputId": "e8fe66fd-175d-4026-fb26-a06737845c77"
      },
      "execution_count": 48,
      "outputs": [
        {
          "output_type": "execute_result",
          "data": {
            "text/plain": [
              "{1, 2, 3, 4}"
            ]
          },
          "metadata": {},
          "execution_count": 48
        }
      ]
    },
    {
      "cell_type": "code",
      "source": [
        "### Counting Unique words in text\n",
        "text=\"In this tutorial we are discussing about sets\"\n",
        "words = text.split()\n",
        "uni = set(words)\n",
        "print(len(uni))"
      ],
      "metadata": {
        "id": "gH8YjEdZXpmG",
        "colab": {
          "base_uri": "https://localhost:8080/"
        },
        "outputId": "9131342d-80e1-4aa9-dbb1-12fc3159980a"
      },
      "execution_count": 50,
      "outputs": [
        {
          "output_type": "stream",
          "name": "stdout",
          "text": [
            "8\n"
          ]
        }
      ]
    },
    {
      "cell_type": "markdown",
      "source": [
        "Dictionary"
      ],
      "metadata": {
        "id": "LXLSg50hYFvC"
      }
    },
    {
      "cell_type": "code",
      "source": [
        "student={\"name\":\"Krish\",\"age\":32,\"grade\":24}\n",
        "print(student)\n",
        "print(type(student))"
      ],
      "metadata": {
        "colab": {
          "base_uri": "https://localhost:8080/"
        },
        "id": "o0HBiIzAYDWa",
        "outputId": "9950e6aa-0cd8-47db-ae07-dd7f7b82512d"
      },
      "execution_count": null,
      "outputs": [
        {
          "output_type": "stream",
          "name": "stdout",
          "text": [
            "{'name': 'Krish', 'age': 32, 'grade': 24}\n",
            "<class 'dict'>\n"
          ]
        }
      ]
    },
    {
      "cell_type": "code",
      "source": [
        "# Single key is slways used\n",
        "student={\"name\":\"Krish\",\"age\":32,\"grade\":24,\"name\":\"Dhawal\"}\n",
        "student"
      ],
      "metadata": {
        "id": "DVBiqfDEYLAY",
        "colab": {
          "base_uri": "https://localhost:8080/"
        },
        "outputId": "fb246b5f-a3f8-4aa6-b7af-1ad6f1a2749d"
      },
      "execution_count": 51,
      "outputs": [
        {
          "output_type": "execute_result",
          "data": {
            "text/plain": [
              "{'name': 'Dhawal', 'age': 32, 'grade': 24}"
            ]
          },
          "metadata": {},
          "execution_count": 51
        }
      ]
    },
    {
      "cell_type": "code",
      "source": [
        "## accessing Dictionary Elements\n",
        "student['Dhawal']"
      ],
      "metadata": {
        "id": "o1HMPveTYnmF",
        "colab": {
          "base_uri": "https://localhost:8080/",
          "height": 166
        },
        "outputId": "0b2f16af-0b53-4145-ebe9-c4c50554efe1"
      },
      "execution_count": 59,
      "outputs": [
        {
          "output_type": "error",
          "ename": "KeyError",
          "evalue": "'Dhawal'",
          "traceback": [
            "\u001b[0;31m---------------------------------------------------------------------------\u001b[0m",
            "\u001b[0;31mKeyError\u001b[0m                                  Traceback (most recent call last)",
            "\u001b[0;32m/tmp/ipython-input-3316978947.py\u001b[0m in \u001b[0;36m<cell line: 0>\u001b[0;34m()\u001b[0m\n\u001b[1;32m      1\u001b[0m \u001b[0;31m## accessing Dictionary Elements\u001b[0m\u001b[0;34m\u001b[0m\u001b[0;34m\u001b[0m\u001b[0m\n\u001b[0;32m----> 2\u001b[0;31m \u001b[0mstudent\u001b[0m\u001b[0;34m[\u001b[0m\u001b[0;34m'Dhawal'\u001b[0m\u001b[0;34m]\u001b[0m\u001b[0;34m\u001b[0m\u001b[0;34m\u001b[0m\u001b[0m\n\u001b[0m",
            "\u001b[0;31mKeyError\u001b[0m: 'Dhawal'"
          ]
        }
      ]
    },
    {
      "cell_type": "code",
      "source": [
        "## Accessing using get() method\n",
        "student.get('marks','not available')"
      ],
      "metadata": {
        "id": "fOwXM1BOYpeb",
        "colab": {
          "base_uri": "https://localhost:8080/",
          "height": 36
        },
        "outputId": "911ae6bc-331d-4511-f11e-e8f5eaec518e"
      },
      "execution_count": 56,
      "outputs": [
        {
          "output_type": "execute_result",
          "data": {
            "text/plain": [
              "'not available'"
            ],
            "application/vnd.google.colaboratory.intrinsic+json": {
              "type": "string"
            }
          },
          "metadata": {},
          "execution_count": 56
        }
      ]
    },
    {
      "cell_type": "code",
      "source": [
        "student[\"age\"]=33  ##update value for the key\n",
        "print(student)\n",
        "student[\"address\"]=\"India\" ## added a new key and value\n",
        "print(student)"
      ],
      "metadata": {
        "id": "OHUf2EEiZ2Uv",
        "colab": {
          "base_uri": "https://localhost:8080/"
        },
        "outputId": "9808bf2a-a0b9-4b0d-dc2f-d7e2220ae163"
      },
      "execution_count": 57,
      "outputs": [
        {
          "output_type": "stream",
          "name": "stdout",
          "text": [
            "{'name': 'Dhawal', 'age': 33, 'grade': 24}\n",
            "{'name': 'Dhawal', 'age': 33, 'grade': 24, 'address': 'India'}\n"
          ]
        }
      ]
    },
    {
      "cell_type": "code",
      "source": [
        "del student['grade'] ## delete key and value pair"
      ],
      "metadata": {
        "id": "enuPzVZ_Z3q6"
      },
      "execution_count": null,
      "outputs": []
    },
    {
      "cell_type": "code",
      "source": [
        "# keys and values function\n",
        "student.items()"
      ],
      "metadata": {
        "id": "yohgdxMhZ62S",
        "colab": {
          "base_uri": "https://localhost:8080/"
        },
        "outputId": "396c78cd-64f1-40eb-e50c-a9dc55bfe8a8"
      },
      "execution_count": 62,
      "outputs": [
        {
          "output_type": "execute_result",
          "data": {
            "text/plain": [
              "dict_items([('name', 'Dhawal'), ('age', 33), ('grade', 24), ('address', 'India')])"
            ]
          },
          "metadata": {},
          "execution_count": 62
        }
      ]
    },
    {
      "cell_type": "code",
      "source": [
        "# nested dictionaries\n",
        "## Nested Disctionaries\n",
        "students={\n",
        "    \"student1\":{\"name\":\"Krish\",\"age\":32},\n",
        "    \"student2\":{\"name\":\"Peter\",\"age\":35}\n",
        "}\n",
        "print(students)"
      ],
      "metadata": {
        "id": "8GTz_yosaDsa",
        "colab": {
          "base_uri": "https://localhost:8080/"
        },
        "outputId": "185485dc-0873-4e20-efea-cbcff0988713"
      },
      "execution_count": 63,
      "outputs": [
        {
          "output_type": "stream",
          "name": "stdout",
          "text": [
            "{'student1': {'name': 'Krish', 'age': 32}, 'student2': {'name': 'Peter', 'age': 35}}\n"
          ]
        }
      ]
    },
    {
      "cell_type": "code",
      "source": [
        "## Practical Examples\n",
        "\n",
        "## USe a dictionary to count he frequency of elements in list\n",
        "\n",
        "numbers=[1,2,2,3,3,3,4,4,4,4]\n",
        "frequency={}\n",
        "for i in numbers:\n",
        "  if i in frequency:\n",
        "    frequency[i]+=1\n",
        "  else:\n",
        "    frequency[i]=1\n",
        "print(frequency)"
      ],
      "metadata": {
        "id": "82msp_rdaJP3",
        "colab": {
          "base_uri": "https://localhost:8080/"
        },
        "outputId": "5f91278c-86d0-4ce5-83bf-16ed36a34855"
      },
      "execution_count": 64,
      "outputs": [
        {
          "output_type": "stream",
          "name": "stdout",
          "text": [
            "{1: 1, 2: 2, 3: 3, 4: 4}\n"
          ]
        }
      ]
    },
    {
      "cell_type": "code",
      "source": [
        "# find unique common elements\n",
        "list1 = [1, 2, 3, 4, 5, 6, 7, 2]\n",
        "list2 = [5, 6, 7, 8, 9, 10, 6]"
      ],
      "metadata": {
        "id": "Urj6zUb0aevT"
      },
      "execution_count": null,
      "outputs": []
    },
    {
      "cell_type": "code",
      "source": [
        "# Write a program to count the frequency of each character in a given string and store it in a dictionary. Ignore spaces.\n",
        "# Example Input:\n",
        "text = \"hello world\""
      ],
      "metadata": {
        "id": "QJLZfQ3abDyg"
      },
      "execution_count": null,
      "outputs": []
    },
    {
      "cell_type": "markdown",
      "source": [],
      "metadata": {
        "id": "QDRzlnxTbfZr"
      }
    },
    {
      "cell_type": "markdown",
      "source": [
        "# Numpy"
      ],
      "metadata": {
        "id": "gb36YIhmb-I2"
      }
    },
    {
      "cell_type": "code",
      "source": [
        "!pip install numpy"
      ],
      "metadata": {
        "id": "y8iC3jTNcYHC",
        "colab": {
          "base_uri": "https://localhost:8080/"
        },
        "outputId": "6e542c80-5958-4c21-a38c-860300f6464f"
      },
      "execution_count": 65,
      "outputs": [
        {
          "output_type": "stream",
          "name": "stdout",
          "text": [
            "Requirement already satisfied: numpy in /usr/local/lib/python3.12/dist-packages (2.0.2)\n"
          ]
        }
      ]
    },
    {
      "cell_type": "code",
      "source": [
        "import numpy as np"
      ],
      "metadata": {
        "id": "C6l07pmxcePP"
      },
      "execution_count": 66,
      "outputs": []
    },
    {
      "cell_type": "code",
      "source": [
        "lst = [[1,2,3],\n",
        "       [4,5,6],\n",
        "       [7,8,9]]\n",
        "lst"
      ],
      "metadata": {
        "id": "_qCLZ1epceSy",
        "colab": {
          "base_uri": "https://localhost:8080/"
        },
        "outputId": "30813411-4112-431b-e5b4-ac32a240fc00"
      },
      "execution_count": 67,
      "outputs": [
        {
          "output_type": "execute_result",
          "data": {
            "text/plain": [
              "[[1, 2, 3], [4, 5, 6], [7, 8, 9]]"
            ]
          },
          "metadata": {},
          "execution_count": 67
        }
      ]
    },
    {
      "cell_type": "code",
      "source": [
        "arr = np.array(lst)\n",
        "arr"
      ],
      "metadata": {
        "id": "N0qH6NiNchZE",
        "colab": {
          "base_uri": "https://localhost:8080/"
        },
        "outputId": "1a1667c8-05cd-40fe-f17b-76960cc74fb2"
      },
      "execution_count": 68,
      "outputs": [
        {
          "output_type": "execute_result",
          "data": {
            "text/plain": [
              "array([[1, 2, 3],\n",
              "       [4, 5, 6],\n",
              "       [7, 8, 9]])"
            ]
          },
          "metadata": {},
          "execution_count": 68
        }
      ]
    },
    {
      "cell_type": "code",
      "source": [
        "arr.ndim #for dimension of array"
      ],
      "metadata": {
        "id": "jEQs4abRcn8A",
        "colab": {
          "base_uri": "https://localhost:8080/"
        },
        "outputId": "c55d79c9-2782-4d1c-c895-6b4dd1fa8f6e"
      },
      "execution_count": 69,
      "outputs": [
        {
          "output_type": "execute_result",
          "data": {
            "text/plain": [
              "2"
            ]
          },
          "metadata": {},
          "execution_count": 69
        }
      ]
    },
    {
      "cell_type": "code",
      "source": [
        "arr.shape"
      ],
      "metadata": {
        "id": "2sURIeXKcrAX",
        "colab": {
          "base_uri": "https://localhost:8080/"
        },
        "outputId": "980a0a20-b2f5-4ee7-f056-85b662f3cf48"
      },
      "execution_count": 70,
      "outputs": [
        {
          "output_type": "execute_result",
          "data": {
            "text/plain": [
              "(3, 3)"
            ]
          },
          "metadata": {},
          "execution_count": 70
        }
      ]
    },
    {
      "cell_type": "code",
      "source": [
        "arr.size"
      ],
      "metadata": {
        "id": "Nz2PrJKXcrEJ",
        "colab": {
          "base_uri": "https://localhost:8080/"
        },
        "outputId": "e9e92591-07f9-4265-c7a1-fb80afe585c6"
      },
      "execution_count": 71,
      "outputs": [
        {
          "output_type": "execute_result",
          "data": {
            "text/plain": [
              "9"
            ]
          },
          "metadata": {},
          "execution_count": 71
        }
      ]
    },
    {
      "cell_type": "code",
      "source": [
        "# zero and ones array\n",
        "np.zeros((2,3))"
      ],
      "metadata": {
        "id": "8h7WWlmfcrHH",
        "colab": {
          "base_uri": "https://localhost:8080/"
        },
        "outputId": "917c6bdb-f5c4-4095-bac4-edea26a4d5dd"
      },
      "execution_count": 72,
      "outputs": [
        {
          "output_type": "execute_result",
          "data": {
            "text/plain": [
              "array([[0., 0., 0.],\n",
              "       [0., 0., 0.]])"
            ]
          },
          "metadata": {},
          "execution_count": 72
        }
      ]
    },
    {
      "cell_type": "code",
      "source": [
        "np.ones((4,3))"
      ],
      "metadata": {
        "colab": {
          "base_uri": "https://localhost:8080/"
        },
        "id": "bVmUq_Joc8VH",
        "outputId": "86dba125-13fa-4759-e988-cb6edacdb29f"
      },
      "execution_count": 73,
      "outputs": [
        {
          "output_type": "execute_result",
          "data": {
            "text/plain": [
              "array([[1., 1., 1.],\n",
              "       [1., 1., 1.],\n",
              "       [1., 1., 1.],\n",
              "       [1., 1., 1.]])"
            ]
          },
          "metadata": {},
          "execution_count": 73
        }
      ]
    },
    {
      "cell_type": "code",
      "source": [
        "# random function\n",
        "np.random.random((3,3))\n"
      ],
      "metadata": {
        "id": "1EIjZbdDcrJz",
        "colab": {
          "base_uri": "https://localhost:8080/"
        },
        "outputId": "4b94475b-5671-431e-8e3f-88d5bc94e63f"
      },
      "execution_count": 75,
      "outputs": [
        {
          "output_type": "execute_result",
          "data": {
            "text/plain": [
              "array([[0.9664926 , 0.80839658, 0.59613577],\n",
              "       [0.30791778, 0.70495566, 0.92666656],\n",
              "       [0.01913252, 0.12098327, 0.15817355]])"
            ]
          },
          "metadata": {},
          "execution_count": 75
        }
      ]
    },
    {
      "cell_type": "code",
      "source": [
        "np.random.randint(6)"
      ],
      "metadata": {
        "id": "-gKa0-UYcrMX",
        "colab": {
          "base_uri": "https://localhost:8080/"
        },
        "outputId": "e772af89-16cb-4223-af8e-753bbeda65be"
      },
      "execution_count": 94,
      "outputs": [
        {
          "output_type": "execute_result",
          "data": {
            "text/plain": [
              "0"
            ]
          },
          "metadata": {},
          "execution_count": 94
        }
      ]
    },
    {
      "cell_type": "code",
      "source": [
        "# arange\n",
        "np.arange(1,10,5)"
      ],
      "metadata": {
        "id": "dSGdSre4crO7",
        "colab": {
          "base_uri": "https://localhost:8080/"
        },
        "outputId": "6dd03fc2-68ce-47f4-c94a-1e55324ef30a"
      },
      "execution_count": 96,
      "outputs": [
        {
          "output_type": "execute_result",
          "data": {
            "text/plain": [
              "array([1, 6])"
            ]
          },
          "metadata": {},
          "execution_count": 96
        }
      ]
    },
    {
      "cell_type": "code",
      "source": [
        "# linspace\n",
        "np.linspace(1,10,17)"
      ],
      "metadata": {
        "id": "E70Vg3Q7crR1",
        "colab": {
          "base_uri": "https://localhost:8080/"
        },
        "outputId": "498b2ecd-fda1-41b0-843a-7e7ea64a8aa2"
      },
      "execution_count": 98,
      "outputs": [
        {
          "output_type": "execute_result",
          "data": {
            "text/plain": [
              "array([ 1.    ,  1.5625,  2.125 ,  2.6875,  3.25  ,  3.8125,  4.375 ,\n",
              "        4.9375,  5.5   ,  6.0625,  6.625 ,  7.1875,  7.75  ,  8.3125,\n",
              "        8.875 ,  9.4375, 10.    ])"
            ]
          },
          "metadata": {},
          "execution_count": 98
        }
      ]
    },
    {
      "cell_type": "code",
      "source": [
        "# flatten"
      ],
      "metadata": {
        "id": "gQN_kD4_crVT"
      },
      "execution_count": null,
      "outputs": []
    },
    {
      "cell_type": "code",
      "source": [
        "p = np.random.random((3,5))\n",
        "p"
      ],
      "metadata": {
        "id": "TlHdhNL0dsQm"
      },
      "execution_count": null,
      "outputs": []
    },
    {
      "cell_type": "code",
      "source": [
        "# reshape\n",
        "np.reshape(p,(5,3))"
      ],
      "metadata": {
        "id": "VWe2A0nMdsTw"
      },
      "execution_count": null,
      "outputs": []
    },
    {
      "cell_type": "code",
      "source": [
        "# identity matrix\n"
      ],
      "metadata": {
        "id": "TeraYKrzdsXF"
      },
      "execution_count": null,
      "outputs": []
    },
    {
      "cell_type": "code",
      "source": [
        "# arr+1"
      ],
      "metadata": {
        "id": "LNKnGB_QeZho"
      },
      "execution_count": null,
      "outputs": []
    },
    {
      "cell_type": "code",
      "source": [
        "int(arr.max())"
      ],
      "metadata": {
        "id": "s5hfWQEJeZlC"
      },
      "execution_count": null,
      "outputs": []
    },
    {
      "cell_type": "code",
      "source": [
        "int(arr.min())"
      ],
      "metadata": {
        "id": "E2yqo0Tfehpo"
      },
      "execution_count": null,
      "outputs": []
    },
    {
      "cell_type": "code",
      "source": [
        "int(arr.sum())"
      ],
      "metadata": {
        "id": "CYmWKKA0ejYr"
      },
      "execution_count": null,
      "outputs": []
    },
    {
      "cell_type": "code",
      "source": [
        "arr.max(axis=0) # column wise"
      ],
      "metadata": {
        "id": "J1epI3Zye-dt"
      },
      "execution_count": null,
      "outputs": []
    },
    {
      "cell_type": "code",
      "source": [
        "arr1 =np.array([[2,5,3],\n",
        "                [4,2,7],\n",
        "                [3,5,9]])\n",
        "arr2 =np.array([[1,9,3],\n",
        "                [2,2,7],\n",
        "                [7,6,3]])"
      ],
      "metadata": {
        "id": "y2f5XW8BfDJP"
      },
      "execution_count": null,
      "outputs": []
    },
    {
      "cell_type": "code",
      "source": [
        "arr3 = arr1+arr2"
      ],
      "metadata": {
        "id": "4nn0g4EEf1wL"
      },
      "execution_count": null,
      "outputs": []
    },
    {
      "cell_type": "code",
      "source": [
        "# sorting"
      ],
      "metadata": {
        "id": "phOC9KM7gA7I"
      },
      "execution_count": null,
      "outputs": []
    },
    {
      "cell_type": "code",
      "source": [
        "# stacking and splitting"
      ],
      "metadata": {
        "id": "5kqgeVEohasm"
      },
      "execution_count": null,
      "outputs": []
    }
  ]
}