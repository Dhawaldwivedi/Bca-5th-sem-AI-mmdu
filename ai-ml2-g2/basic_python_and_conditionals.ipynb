{
  "nbformat": 4,
  "nbformat_minor": 0,
  "metadata": {
    "colab": {
      "provenance": [],
      "authorship_tag": "ABX9TyN7B7ht/ulP2WkKmyt+6kIC",
      "include_colab_link": true
    },
    "kernelspec": {
      "name": "python3",
      "display_name": "Python 3"
    },
    "language_info": {
      "name": "python"
    }
  },
  "cells": [
    {
      "cell_type": "markdown",
      "metadata": {
        "id": "view-in-github",
        "colab_type": "text"
      },
      "source": [
        "<a href=\"https://colab.research.google.com/github/Dhawaldwivedi/Bca-5th-sem-AI-mmdu/blob/main/ai-ml2-g2/basic_python_and_conditionals.ipynb\" target=\"_parent\"><img src=\"https://colab.research.google.com/assets/colab-badge.svg\" alt=\"Open In Colab\"/></a>"
      ]
    },
    {
      "cell_type": "code",
      "execution_count": 2,
      "metadata": {
        "id": "iccp_E2PtQo1",
        "colab": {
          "base_uri": "https://localhost:8080/"
        },
        "outputId": "73d83075-d342-4377-8aac-7608ecfc2385"
      },
      "outputs": [
        {
          "output_type": "stream",
          "name": "stdout",
          "text": [
            "basics of python\n"
          ]
        }
      ],
      "source": [
        "print(\"basics of python\")"
      ]
    },
    {
      "cell_type": "markdown",
      "source": [
        "# Comments"
      ],
      "metadata": {
        "id": "11C1H0lXk1gZ"
      }
    },
    {
      "cell_type": "code",
      "source": [
        "# single line comment\n",
        "# This is a single line comment"
      ],
      "metadata": {
        "id": "J31lX0TsD8wM"
      },
      "execution_count": 3,
      "outputs": []
    },
    {
      "cell_type": "code",
      "source": [
        "# multi line comment\n",
        "''' this is\n",
        "      a multi line\n",
        "      comment'''\n",
        "\n",
        "print(\"hello world\")"
      ],
      "metadata": {
        "id": "ixCaflRLD83l",
        "colab": {
          "base_uri": "https://localhost:8080/"
        },
        "outputId": "d3a4d392-8f4d-4b33-a53e-e844f004ebe4"
      },
      "execution_count": 4,
      "outputs": [
        {
          "output_type": "stream",
          "name": "stdout",
          "text": [
            "hello world\n"
          ]
        }
      ]
    },
    {
      "cell_type": "markdown",
      "source": [
        "# Variables"
      ],
      "metadata": {
        "id": "a_Hka5D5lr4k"
      }
    },
    {
      "cell_type": "code",
      "source": [
        "# declaring and assigning variables\n",
        "a = 10\n",
        "print(a)\n",
        "b = 3.2445\n",
        "print(b)\n",
        "c = \"hello\"\n",
        "print(c)\n",
        "d = True\n",
        "print(d)"
      ],
      "metadata": {
        "id": "p6W20HHTlvDD",
        "colab": {
          "base_uri": "https://localhost:8080/"
        },
        "outputId": "3283eea2-7435-44b5-a47d-dbc2788d602b"
      },
      "execution_count": 10,
      "outputs": [
        {
          "output_type": "stream",
          "name": "stdout",
          "text": [
            "10\n",
            "3.2445\n",
            "hello\n",
            "True\n"
          ]
        }
      ]
    },
    {
      "cell_type": "code",
      "source": [
        "type(a)"
      ],
      "metadata": {
        "colab": {
          "base_uri": "https://localhost:8080/"
        },
        "id": "ANhuQAmsOt4y",
        "outputId": "6625239a-d5a3-4638-bde4-76623f1dab89"
      },
      "execution_count": 11,
      "outputs": [
        {
          "output_type": "execute_result",
          "data": {
            "text/plain": [
              "int"
            ]
          },
          "metadata": {},
          "execution_count": 11
        }
      ]
    },
    {
      "cell_type": "code",
      "source": [
        "type(b)"
      ],
      "metadata": {
        "colab": {
          "base_uri": "https://localhost:8080/"
        },
        "id": "Ntg16CxjPAm9",
        "outputId": "083f850d-e32a-4f57-d14c-e34108dad3d0"
      },
      "execution_count": 12,
      "outputs": [
        {
          "output_type": "execute_result",
          "data": {
            "text/plain": [
              "float"
            ]
          },
          "metadata": {},
          "execution_count": 12
        }
      ]
    },
    {
      "cell_type": "code",
      "source": [
        "type(c)"
      ],
      "metadata": {
        "colab": {
          "base_uri": "https://localhost:8080/"
        },
        "id": "_U2OU-X3PDSO",
        "outputId": "f89e345d-4191-4993-e16f-0583e1cd7ecb"
      },
      "execution_count": 13,
      "outputs": [
        {
          "output_type": "execute_result",
          "data": {
            "text/plain": [
              "str"
            ]
          },
          "metadata": {},
          "execution_count": 13
        }
      ]
    },
    {
      "cell_type": "code",
      "source": [
        "type(d)"
      ],
      "metadata": {
        "colab": {
          "base_uri": "https://localhost:8080/"
        },
        "id": "2WZG4ti9PD27",
        "outputId": "87fa79b3-ec59-4998-a002-1b57d6c0e7d9"
      },
      "execution_count": 14,
      "outputs": [
        {
          "output_type": "execute_result",
          "data": {
            "text/plain": [
              "bool"
            ]
          },
          "metadata": {},
          "execution_count": 14
        }
      ]
    },
    {
      "cell_type": "code",
      "source": [
        "# valid invalid variable names\\\n",
        "1a = 10\n",
        "print(1a)"
      ],
      "metadata": {
        "id": "X06VG0KrmVhq",
        "colab": {
          "base_uri": "https://localhost:8080/",
          "height": 111
        },
        "outputId": "c6256945-d67c-4e5a-a571-a1f1f66d0e07"
      },
      "execution_count": 21,
      "outputs": [
        {
          "output_type": "error",
          "ename": "SyntaxError",
          "evalue": "invalid decimal literal (ipython-input-393190812.py, line 2)",
          "traceback": [
            "\u001b[0;36m  File \u001b[0;32m\"/tmp/ipython-input-393190812.py\"\u001b[0;36m, line \u001b[0;32m2\u001b[0m\n\u001b[0;31m    1a = 10\u001b[0m\n\u001b[0m    ^\u001b[0m\n\u001b[0;31mSyntaxError\u001b[0m\u001b[0;31m:\u001b[0m invalid decimal literal\n"
          ]
        }
      ]
    },
    {
      "cell_type": "code",
      "source": [
        "# case sensitivity in python\n",
        "name = \"Dhawal\"\n",
        "Name = \"dhawal\"\n",
        "print(name)\n",
        "print(Name)"
      ],
      "metadata": {
        "id": "XdoJ6seymbFl",
        "colab": {
          "base_uri": "https://localhost:8080/"
        },
        "outputId": "b5270a63-1e26-49db-8972-b75713e18d4b"
      },
      "execution_count": 24,
      "outputs": [
        {
          "output_type": "stream",
          "name": "stdout",
          "text": [
            "Dhawal\n",
            "dhawal\n"
          ]
        }
      ]
    },
    {
      "cell_type": "code",
      "source": [
        "## Understanding Variable types\n",
        "## Python is dynamically typed,type of a variable is determined at runtime\n",
        "var = 10\n",
        "var = 3.6778\n",
        "var = \"mmdu\"\n",
        "print(var)"
      ],
      "metadata": {
        "id": "wfRnJP1fmvx8",
        "colab": {
          "base_uri": "https://localhost:8080/"
        },
        "outputId": "49a4a6c0-2671-46b1-d726-6251e76b9ea2"
      },
      "execution_count": 27,
      "outputs": [
        {
          "output_type": "stream",
          "name": "stdout",
          "text": [
            "mmdu\n"
          ]
        }
      ]
    },
    {
      "cell_type": "code",
      "source": [
        "# Type Conversion\n",
        "a = 10\n",
        "type(10)\n",
        "b = str(a)\n",
        "type(b)\n"
      ],
      "metadata": {
        "id": "duKYA6kWmzZu",
        "colab": {
          "base_uri": "https://localhost:8080/"
        },
        "outputId": "033c86af-8e93-4941-ce3a-40761eb0d29c"
      },
      "execution_count": 29,
      "outputs": [
        {
          "output_type": "execute_result",
          "data": {
            "text/plain": [
              "str"
            ]
          },
          "metadata": {},
          "execution_count": 29
        }
      ]
    },
    {
      "cell_type": "code",
      "source": [
        "c= int(b)\n",
        "print(c)"
      ],
      "metadata": {
        "colab": {
          "base_uri": "https://localhost:8080/"
        },
        "id": "_REZXvhOSPCh",
        "outputId": "63ebdcc4-6f46-475d-f56c-51ff7f20344c"
      },
      "execution_count": 31,
      "outputs": [
        {
          "output_type": "stream",
          "name": "stdout",
          "text": [
            "10\n"
          ]
        }
      ]
    },
    {
      "cell_type": "code",
      "source": [
        "c\n",
        "d = float(c)\n",
        "print(d)\n",
        "print(type(d))\n"
      ],
      "metadata": {
        "colab": {
          "base_uri": "https://localhost:8080/"
        },
        "id": "bHsPHa_iSiSh",
        "outputId": "102725b5-e042-4485-cfc1-5df75915a305"
      },
      "execution_count": 37,
      "outputs": [
        {
          "output_type": "stream",
          "name": "stdout",
          "text": [
            "10.0\n",
            "<class 'float'>\n"
          ]
        }
      ]
    },
    {
      "cell_type": "code",
      "source": [],
      "metadata": {
        "id": "qelfTDamTKOm"
      },
      "execution_count": null,
      "outputs": []
    },
    {
      "cell_type": "code",
      "source": [
        "# variables reinitialization"
      ],
      "metadata": {
        "id": "kW3cCIasm3Nl"
      },
      "execution_count": null,
      "outputs": []
    },
    {
      "cell_type": "code",
      "source": [
        "# input function\n",
        "var = input(\"enter a name \")\n",
        "print(var)"
      ],
      "metadata": {
        "id": "HM74a3mwnkVe",
        "colab": {
          "base_uri": "https://localhost:8080/"
        },
        "outputId": "0ef80c55-0bbc-440f-98de-cca40b10e514"
      },
      "execution_count": 39,
      "outputs": [
        {
          "output_type": "stream",
          "name": "stdout",
          "text": [
            "enter a name Aman\n",
            "Aman\n"
          ]
        }
      ]
    },
    {
      "cell_type": "code",
      "source": [],
      "metadata": {
        "id": "8fJXuc68npNb"
      },
      "execution_count": null,
      "outputs": []
    },
    {
      "cell_type": "markdown",
      "source": [
        "# Data Types"
      ],
      "metadata": {
        "id": "QqI8N_gnnrPq"
      }
    },
    {
      "cell_type": "code",
      "source": [
        "# understanding different data types\n",
        "# int\n",
        "# float\n",
        "# bool\n",
        "# string"
      ],
      "metadata": {
        "id": "__l1gvhSoFFA"
      },
      "execution_count": null,
      "outputs": []
    },
    {
      "cell_type": "code",
      "source": [
        "# adding 2 diff datatype variables\n",
        "a = 10\n",
        "b = 20.334\n",
        "c = a+b\n",
        "print(c)"
      ],
      "metadata": {
        "id": "Qb5xKslroRQD",
        "colab": {
          "base_uri": "https://localhost:8080/"
        },
        "outputId": "3a7649e2-2579-4f3a-f0e4-172cebdc5cdf"
      },
      "execution_count": 40,
      "outputs": [
        {
          "output_type": "stream",
          "name": "stdout",
          "text": [
            "30.334\n"
          ]
        }
      ]
    },
    {
      "cell_type": "code",
      "source": [
        "a = \"hello\"\n",
        "b = 5\n",
        "c= a+ str(b)\n",
        "print(c)"
      ],
      "metadata": {
        "id": "6opHNoPcodpq",
        "colab": {
          "base_uri": "https://localhost:8080/"
        },
        "outputId": "9fcf35e1-a538-4651-8c7d-b60d691db341"
      },
      "execution_count": 42,
      "outputs": [
        {
          "output_type": "stream",
          "name": "stdout",
          "text": [
            "hello5\n"
          ]
        }
      ]
    },
    {
      "cell_type": "markdown",
      "source": [
        "# Operators"
      ],
      "metadata": {
        "id": "lP16bpW1pAib"
      }
    },
    {
      "cell_type": "code",
      "source": [
        "# Arithmetic Operators\n",
        "# addition\n",
        "# subtraction\n",
        "# multiplication\n",
        "# division\n",
        "# modulus\n",
        "# floor division\n",
        "# exponential\n",
        "a = 10\n",
        "b = 3\n",
        "print(a+b)\n",
        "print(a-b)\n",
        "print(a*b)\n",
        "print(a/b)\n",
        "print(a%b)\n",
        "print(a//b)\n",
        "print(a**b)\n",
        "\n"
      ],
      "metadata": {
        "id": "o9NjcTYhpD7b",
        "colab": {
          "base_uri": "https://localhost:8080/"
        },
        "outputId": "0c58dbcf-97f2-41b9-89fa-2729725af1e4"
      },
      "execution_count": 46,
      "outputs": [
        {
          "output_type": "stream",
          "name": "stdout",
          "text": [
            "13\n",
            "7\n",
            "30\n",
            "3.3333333333333335\n",
            "1\n",
            "3\n",
            "1000\n"
          ]
        }
      ]
    },
    {
      "cell_type": "code",
      "source": [
        "# comparison operators\n",
        "# equals ==\n",
        "# not equals !=\n",
        "# greater than\n",
        "# less than\n",
        "a = 10\n",
        "b=5\n",
        "print(a==b)\n",
        "print(a!=b)\n",
        "print(a>b)\n",
        "print(a<b)"
      ],
      "metadata": {
        "id": "4RWB0J6ypcC0",
        "colab": {
          "base_uri": "https://localhost:8080/"
        },
        "outputId": "750786b2-c07c-454a-fe5a-3b7da42588d9"
      },
      "execution_count": 50,
      "outputs": [
        {
          "output_type": "stream",
          "name": "stdout",
          "text": [
            "False\n",
            "True\n",
            "True\n",
            "False\n"
          ]
        }
      ]
    },
    {
      "cell_type": "code",
      "source": [
        "# logical operators\n",
        "# and\n",
        "# or\n",
        "# not\n",
        "a = True\n",
        "b = False\n",
        "print(a and b)\n",
        "print(a or b)\n",
        "print(not b)"
      ],
      "metadata": {
        "id": "FZYn3B2RrBe9",
        "colab": {
          "base_uri": "https://localhost:8080/"
        },
        "outputId": "6d734da3-fcf8-43eb-d062-30c4bfaa28e3"
      },
      "execution_count": 56,
      "outputs": [
        {
          "output_type": "stream",
          "name": "stdout",
          "text": [
            "False\n",
            "True\n",
            "True\n"
          ]
        }
      ]
    },
    {
      "cell_type": "markdown",
      "source": [
        "# simple calculator program"
      ],
      "metadata": {
        "id": "F0p8Pa2Sr7aA"
      }
    },
    {
      "cell_type": "code",
      "source": [
        "# create a simple calculator program taking 2 inputs from user and printing different arithemtic outputs"
      ],
      "metadata": {
        "id": "MqZpGPU3soXS"
      },
      "execution_count": null,
      "outputs": []
    },
    {
      "cell_type": "markdown",
      "source": [
        "# Conditionals"
      ],
      "metadata": {
        "id": "LEGKanWexkui"
      }
    },
    {
      "cell_type": "code",
      "source": [
        "# basics which enables decision making in python"
      ],
      "metadata": {
        "id": "Z1ysObmpxnyc"
      },
      "execution_count": null,
      "outputs": []
    },
    {
      "cell_type": "code",
      "source": [
        "a = 5\n",
        "if a>4:\n",
        "  print(\"a is greater than 4\")\n",
        "\n",
        "\n",
        ""
      ],
      "metadata": {
        "id": "iUsI55RuxteS",
        "colab": {
          "base_uri": "https://localhost:8080/"
        },
        "outputId": "cc82fbcf-6f6d-4a40-f200-b8cf727e1c2f"
      },
      "execution_count": 57,
      "outputs": [
        {
          "output_type": "stream",
          "name": "stdout",
          "text": [
            "a is greater than 4\n"
          ]
        }
      ]
    },
    {
      "cell_type": "code",
      "source": [
        "#Q) Find if the number is even\n",
        "if a%2==0:\n",
        "  print(\"even\")\n",
        "else:\n",
        "  print(\"odd\")"
      ],
      "metadata": {
        "id": "9_k2il0Sxthp",
        "colab": {
          "base_uri": "https://localhost:8080/"
        },
        "outputId": "b64439a6-827a-484b-860a-1d74b4b130e0"
      },
      "execution_count": 58,
      "outputs": [
        {
          "output_type": "stream",
          "name": "stdout",
          "text": [
            "odd\n"
          ]
        }
      ]
    },
    {
      "cell_type": "code",
      "source": [
        "# elif\n",
        "# if condition:\n",
        "    #print(true)\n",
        "# elif conditon2:\n",
        "#    print(true)\n",
        "# else:\n",
        "# print(true)"
      ],
      "metadata": {
        "id": "w4wp3Gkkxvzn"
      },
      "execution_count": null,
      "outputs": []
    },
    {
      "cell_type": "code",
      "source": [
        "# nested conditonals\n",
        "## number even ,odd,negative\n",
        "a = -3\n",
        "if a>0:\n",
        "  if a%2==0:\n",
        "    print(\"even\")\n",
        "  else:\n",
        "    print(\"odd\")\n",
        "else:\n",
        "  print(\"negative\")"
      ],
      "metadata": {
        "id": "Wsf_xnRYxzLq",
        "colab": {
          "base_uri": "https://localhost:8080/"
        },
        "outputId": "430c517d-f4fc-4eab-9571-e46fcdae1955"
      },
      "execution_count": 61,
      "outputs": [
        {
          "output_type": "stream",
          "name": "stdout",
          "text": [
            "negative\n"
          ]
        }
      ]
    },
    {
      "cell_type": "code",
      "source": [
        "## Simple Calculator program\n",
        "# Take user input for operation"
      ],
      "metadata": {
        "id": "eYdkWjagx2gr"
      },
      "execution_count": null,
      "outputs": []
    },
    {
      "cell_type": "code",
      "source": [
        " # A simple user login system that checks the username and password.\n",
        "user = \"admin\"\n",
        "password = \"admin@123\""
      ],
      "metadata": {
        "id": "xmodxKADyGhE"
      },
      "execution_count": null,
      "outputs": []
    },
    {
      "cell_type": "code",
      "source": [
        "# marks baSED ON grade\n",
        "''' 90+ --> A+\n",
        "    80-89 -->A\n",
        "    70-79 --> B\n",
        "    50-69 --> C\n",
        "    below 50 --> D '''"
      ],
      "metadata": {
        "id": "QFpaZy39yIuF"
      },
      "execution_count": null,
      "outputs": []
    },
    {
      "cell_type": "code",
      "source": [],
      "metadata": {
        "id": "A3ZLlHBDX804"
      },
      "execution_count": null,
      "outputs": []
    }
  ]
}