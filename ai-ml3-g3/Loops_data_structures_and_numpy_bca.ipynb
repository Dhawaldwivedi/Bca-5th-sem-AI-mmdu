{
  "nbformat": 4,
  "nbformat_minor": 0,
  "metadata": {
    "colab": {
      "provenance": [],
      "authorship_tag": "ABX9TyPwGr61fG5NYneXbSRAV5o/",
      "include_colab_link": true
    },
    "kernelspec": {
      "name": "python3",
      "display_name": "Python 3"
    },
    "language_info": {
      "name": "python"
    }
  },
  "cells": [
    {
      "cell_type": "markdown",
      "metadata": {
        "id": "view-in-github",
        "colab_type": "text"
      },
      "source": [
        "<a href=\"https://colab.research.google.com/github/Dhawaldwivedi/Bca-5th-sem-AI-mmdu/blob/main/ai-ml3-g3/Loops_data_structures_and_numpy_bca.ipynb\" target=\"_parent\"><img src=\"https://colab.research.google.com/assets/colab-badge.svg\" alt=\"Open In Colab\"/></a>"
      ]
    },
    {
      "cell_type": "code",
      "execution_count": 1,
      "metadata": {
        "id": "YGQBfX48O7zA",
        "colab": {
          "base_uri": "https://localhost:8080/"
        },
        "outputId": "bb47db24-913e-4cb4-b01f-28928ab2db1f"
      },
      "outputs": [
        {
          "output_type": "stream",
          "name": "stdout",
          "text": [
            "hi\n"
          ]
        }
      ],
      "source": [
        "print('hi')"
      ]
    },
    {
      "cell_type": "markdown",
      "source": [
        "# Loops"
      ],
      "metadata": {
        "id": "YMSNhOOgPJ3c"
      }
    },
    {
      "cell_type": "code",
      "source": [
        "## for loop\n",
        "for i in range(2,10):\n",
        "  print(i)"
      ],
      "metadata": {
        "colab": {
          "base_uri": "https://localhost:8080/"
        },
        "id": "HQthqO0JPNrT",
        "outputId": "107e6c41-5ccf-47de-f3dc-c1dbe31aa981"
      },
      "execution_count": 3,
      "outputs": [
        {
          "output_type": "stream",
          "name": "stdout",
          "text": [
            "2\n",
            "3\n",
            "4\n",
            "5\n",
            "6\n",
            "7\n",
            "8\n",
            "9\n"
          ]
        }
      ]
    },
    {
      "cell_type": "code",
      "source": [
        "# step size  # range(start index , end+1 index , step size)\n",
        "for i in range(2,-2,1):\n",
        "  print(i)"
      ],
      "metadata": {
        "id": "LJUFAv-BPRl0"
      },
      "execution_count": 8,
      "outputs": []
    },
    {
      "cell_type": "code",
      "source": [],
      "metadata": {
        "colab": {
          "base_uri": "https://localhost:8080/"
        },
        "id": "iDo0cTOWNhPO",
        "outputId": "f4c9fb10-2884-4102-bac3-1a0477c39d28"
      },
      "execution_count": null,
      "outputs": [
        {
          "output_type": "stream",
          "name": "stdout",
          "text": [
            "2\n",
            "3\n",
            "4\n",
            "5\n",
            "6\n",
            "7\n",
            "8\n",
            "9\n",
            "10\n"
          ]
        }
      ]
    },
    {
      "cell_type": "code",
      "source": [
        "# for loop through string\n",
        "s = \"mmdu\"\n",
        "for i in s:\n",
        "  print(i)"
      ],
      "metadata": {
        "colab": {
          "base_uri": "https://localhost:8080/"
        },
        "id": "vVMfh99HPWxQ",
        "outputId": "89c9dc72-caf7-4df2-ddd3-1f18d68ca9ef"
      },
      "execution_count": 9,
      "outputs": [
        {
          "output_type": "stream",
          "name": "stdout",
          "text": [
            "m\n",
            "m\n",
            "d\n",
            "u\n"
          ]
        }
      ]
    },
    {
      "cell_type": "code",
      "source": [
        "# while loop\n",
        "count = 0\n",
        "while count<5:\n",
        "  print(count)\n",
        "  count= count+1"
      ],
      "metadata": {
        "colab": {
          "base_uri": "https://localhost:8080/"
        },
        "id": "g7RaduzjPe9W",
        "outputId": "b9b55c9b-65cd-4af1-816f-053657f6f9cc"
      },
      "execution_count": null,
      "outputs": [
        {
          "output_type": "stream",
          "name": "stdout",
          "text": [
            "0\n",
            "1\n",
            "2\n",
            "3\n",
            "4\n"
          ]
        }
      ]
    },
    {
      "cell_type": "code",
      "source": [
        "# break statements\n",
        "for i in range(20):\n",
        "  print(i)\n",
        "  if i==5:\n",
        "    break"
      ],
      "metadata": {
        "colab": {
          "base_uri": "https://localhost:8080/"
        },
        "id": "W5qtv0BdP5nx",
        "outputId": "89b9dc83-ae06-4de9-ade4-635c72a1e857"
      },
      "execution_count": null,
      "outputs": [
        {
          "output_type": "stream",
          "name": "stdout",
          "text": [
            "0\n",
            "1\n",
            "2\n",
            "3\n",
            "4\n",
            "5\n"
          ]
        }
      ]
    },
    {
      "cell_type": "code",
      "source": [
        "# continue\n",
        "for i in range(10):\n",
        "  if i==5:\n",
        "    continue\n",
        "  print(i)\n"
      ],
      "metadata": {
        "id": "FkuNEwIpQEKN",
        "colab": {
          "base_uri": "https://localhost:8080/"
        },
        "outputId": "938eb20a-f80d-41ca-cd5a-d8666815cfd9"
      },
      "execution_count": null,
      "outputs": [
        {
          "output_type": "stream",
          "name": "stdout",
          "text": [
            "0\n",
            "1\n",
            "2\n",
            "3\n",
            "4\n",
            "6\n",
            "7\n",
            "8\n",
            "9\n"
          ]
        }
      ]
    },
    {
      "cell_type": "code",
      "source": [
        "## Nested loopss\n",
        "## a loop inside a loop\n",
        "\n",
        "for i in range(3):\n",
        "    for j in range(2):\n",
        "        print(f\"i:{i} and j:{j}\")"
      ],
      "metadata": {
        "colab": {
          "base_uri": "https://localhost:8080/"
        },
        "id": "k6SfAdvfQN8w",
        "outputId": "33f60304-6694-4714-b434-e0aebdaa7ee5"
      },
      "execution_count": null,
      "outputs": [
        {
          "output_type": "stream",
          "name": "stdout",
          "text": [
            "i:0 and j:0\n",
            "i:0 and j:1\n",
            "i:1 and j:0\n",
            "i:1 and j:1\n",
            "i:2 and j:0\n",
            "i:2 and j:1\n"
          ]
        }
      ]
    },
    {
      "cell_type": "code",
      "source": [
        "\n"
      ],
      "metadata": {
        "colab": {
          "base_uri": "https://localhost:8080/"
        },
        "id": "VCSNuTxsPzM-",
        "outputId": "a1d48333-500e-4d17-ea02-e1a8e2fd485a"
      },
      "execution_count": null,
      "outputs": [
        {
          "output_type": "stream",
          "name": "stdout",
          "text": [
            "value of i is 4 and j is 6\n"
          ]
        }
      ]
    },
    {
      "cell_type": "code",
      "source": [
        "## Example- Prime numbers between 1 and 100"
      ],
      "metadata": {
        "id": "6OXvChjNQSB5"
      },
      "execution_count": null,
      "outputs": []
    },
    {
      "cell_type": "code",
      "source": [
        "''' *****\n",
        "    *****\n",
        "    *****\n",
        "    *****\n",
        "    *****  '''\n",
        "for i in range(5):\n",
        "  for j in range(5):\n",
        "    print(\"*\",end =\"\")\n",
        "  print()\n",
        "\n",
        "''' *\n",
        "    **\n",
        "    ***\n",
        "    ****\n",
        "    *****  '''\n",
        "\n",
        "for i in range(5):\n",
        "  for j in range(i+1):\n",
        "    print(\"*\",end =\"\")\n",
        "  print()\n"
      ],
      "metadata": {
        "colab": {
          "base_uri": "https://localhost:8080/"
        },
        "id": "V_ifZqzjQgOm",
        "outputId": "2a066922-08e4-4f24-8007-8d55a032d6ff"
      },
      "execution_count": 14,
      "outputs": [
        {
          "output_type": "stream",
          "name": "stdout",
          "text": [
            "*****\n",
            "*****\n",
            "*****\n",
            "*****\n",
            "*****\n",
            "*\n",
            "**\n",
            "***\n",
            "****\n",
            "*****\n"
          ]
        }
      ]
    },
    {
      "cell_type": "markdown",
      "source": [],
      "metadata": {
        "id": "HWaHVoTmQ1bB"
      }
    },
    {
      "cell_type": "code",
      "source": [
        "'''  *****\n",
        "     ****\n",
        "     ***\n",
        "     **\n",
        "     *  '''\n",
        "\n"
      ],
      "metadata": {
        "colab": {
          "base_uri": "https://localhost:8080/",
          "height": 36
        },
        "id": "tJ4fWLU5QZa3",
        "outputId": "b09d4d6c-1c33-4408-d801-9722f2d7fa33"
      },
      "execution_count": null,
      "outputs": [
        {
          "output_type": "execute_result",
          "data": {
            "text/plain": [
              "'  *****\\n     ****\\n     ***\\n     **\\n     *  '"
            ],
            "application/vnd.google.colaboratory.intrinsic+json": {
              "type": "string"
            }
          },
          "metadata": {},
          "execution_count": 11
        }
      ]
    },
    {
      "cell_type": "code",
      "source": [],
      "metadata": {
        "id": "Eb8vl6xDRHEC"
      },
      "execution_count": null,
      "outputs": []
    },
    {
      "cell_type": "markdown",
      "source": [
        "# Data Structures"
      ],
      "metadata": {
        "id": "dSmJUPg3RLdB"
      }
    },
    {
      "cell_type": "code",
      "source": [
        "lst=[]\n",
        "print(type(lst))"
      ],
      "metadata": {
        "colab": {
          "base_uri": "https://localhost:8080/"
        },
        "id": "BTpYVJdhRO8t",
        "outputId": "053f988d-ccd4-47c5-cd86-e12449ef5983"
      },
      "execution_count": null,
      "outputs": [
        {
          "output_type": "stream",
          "name": "stdout",
          "text": [
            "<class 'list'>\n"
          ]
        }
      ]
    },
    {
      "cell_type": "code",
      "source": [
        "### Accessing List Elements\n",
        "\n",
        "fruits=[\"apple\",\"banana\",\"cherry\",\"kiwi\",\"gauva\"]"
      ],
      "metadata": {
        "id": "fGh9wi44RWyR"
      },
      "execution_count": 15,
      "outputs": []
    },
    {
      "cell_type": "code",
      "source": [
        "print(fruits[0])\n",
        "print(fruits[2])\n",
        "print(fruits[4])\n",
        "print(fruits[-1])"
      ],
      "metadata": {
        "colab": {
          "base_uri": "https://localhost:8080/"
        },
        "id": "A1MpDo9IR_8O",
        "outputId": "882102d5-d97e-4bb8-cef9-463ac74adc2a"
      },
      "execution_count": null,
      "outputs": [
        {
          "output_type": "stream",
          "name": "stdout",
          "text": [
            "apple\n",
            "cherry\n",
            "gauva\n",
            "gauva\n"
          ]
        }
      ]
    },
    {
      "cell_type": "code",
      "source": [
        "## Modifying The List elements\n",
        "fruits[1]=\"watermelon\"\n",
        "print(fruits)"
      ],
      "metadata": {
        "colab": {
          "base_uri": "https://localhost:8080/"
        },
        "id": "gVbGpmrlSBv_",
        "outputId": "aa3f5bff-c3d6-4b67-db67-0a9047c091c3"
      },
      "execution_count": 16,
      "outputs": [
        {
          "output_type": "stream",
          "name": "stdout",
          "text": [
            "['apple', 'watermelon', 'cherry', 'kiwi', 'gauva']\n"
          ]
        }
      ]
    },
    {
      "cell_type": "code",
      "source": [
        "## List Methods\n",
        "\n",
        "fruits.append(\"orange\")\n",
        "print(fruits)"
      ],
      "metadata": {
        "colab": {
          "base_uri": "https://localhost:8080/"
        },
        "id": "CmRYwq9dSHlD",
        "outputId": "e1b72dfa-9345-475e-d90c-884606c2a017"
      },
      "execution_count": 17,
      "outputs": [
        {
          "output_type": "stream",
          "name": "stdout",
          "text": [
            "['apple', 'watermelon', 'cherry', 'kiwi', 'gauva', 'orange']\n"
          ]
        }
      ]
    },
    {
      "cell_type": "code",
      "source": [
        "fruits.insert(1,\"watermelon\")\n",
        "print(fruits)\n",
        "print(fruits.index(\"watermelon\"))"
      ],
      "metadata": {
        "colab": {
          "base_uri": "https://localhost:8080/"
        },
        "id": "cTIx3wjZSNX1",
        "outputId": "313aadeb-f3aa-451c-8f11-5d090e1e52b9"
      },
      "execution_count": 18,
      "outputs": [
        {
          "output_type": "stream",
          "name": "stdout",
          "text": [
            "['apple', 'watermelon', 'watermelon', 'cherry', 'kiwi', 'gauva', 'orange']\n",
            "1\n"
          ]
        }
      ]
    },
    {
      "cell_type": "code",
      "source": [
        "fruits.remove(\"watermelon\") ## Removing the first occurance of an item\n",
        "print(fruits)"
      ],
      "metadata": {
        "colab": {
          "base_uri": "https://localhost:8080/"
        },
        "id": "YDffWz_zSPHe",
        "outputId": "95b292e1-3530-415a-f94e-b5210ec4a6f0"
      },
      "execution_count": 19,
      "outputs": [
        {
          "output_type": "stream",
          "name": "stdout",
          "text": [
            "['apple', 'watermelon', 'cherry', 'kiwi', 'gauva', 'orange']\n"
          ]
        }
      ]
    },
    {
      "cell_type": "code",
      "source": [
        "fruits.index(\"watermelon\")"
      ],
      "metadata": {
        "colab": {
          "base_uri": "https://localhost:8080/"
        },
        "id": "krhvHBF2saMu",
        "outputId": "f6edae6b-3b40-4e96-c0f7-256bf3621132"
      },
      "execution_count": null,
      "outputs": [
        {
          "output_type": "execute_result",
          "data": {
            "text/plain": [
              "1"
            ]
          },
          "metadata": {},
          "execution_count": 19
        }
      ]
    },
    {
      "cell_type": "code",
      "source": [
        "## Remove and return the last element\n",
        "popped_fruits=fruits.pop(4)\n",
        "print(popped_fruits)\n",
        "print(fruits)"
      ],
      "metadata": {
        "colab": {
          "base_uri": "https://localhost:8080/"
        },
        "id": "dyxjXzTVSRdY",
        "outputId": "79d33ea1-6508-4812-cc13-0b66c592c688"
      },
      "execution_count": 20,
      "outputs": [
        {
          "output_type": "stream",
          "name": "stdout",
          "text": [
            "gauva\n",
            "['apple', 'watermelon', 'cherry', 'kiwi', 'orange']\n"
          ]
        }
      ]
    },
    {
      "cell_type": "code",
      "source": [
        "index=fruits.index(\"cherry\")\n",
        "print(index)"
      ],
      "metadata": {
        "colab": {
          "base_uri": "https://localhost:8080/"
        },
        "id": "6SxXXhNuSYp7",
        "outputId": "40fb018c-00ae-4595-938e-fa8c932b841a"
      },
      "execution_count": null,
      "outputs": [
        {
          "output_type": "stream",
          "name": "stdout",
          "text": [
            "3\n"
          ]
        }
      ]
    },
    {
      "cell_type": "code",
      "source": [
        "fruits.sort()\n",
        "fruits"
      ],
      "metadata": {
        "id": "z4sY8E3kSbVX",
        "colab": {
          "base_uri": "https://localhost:8080/"
        },
        "outputId": "f3d88bf4-87ef-4e72-bc40-4a9f803e805a"
      },
      "execution_count": 21,
      "outputs": [
        {
          "output_type": "execute_result",
          "data": {
            "text/plain": [
              "['apple', 'cherry', 'kiwi', 'orange', 'watermelon']"
            ]
          },
          "metadata": {},
          "execution_count": 21
        }
      ]
    },
    {
      "cell_type": "code",
      "source": [
        "fruits.reverse()\n",
        "fruits ## REverse the list"
      ],
      "metadata": {
        "id": "9kJC-s7NSsP3",
        "colab": {
          "base_uri": "https://localhost:8080/"
        },
        "outputId": "b6ab44a7-a886-4bfb-fabe-1d5fde545aba"
      },
      "execution_count": 22,
      "outputs": [
        {
          "output_type": "execute_result",
          "data": {
            "text/plain": [
              "['watermelon', 'orange', 'kiwi', 'cherry', 'apple']"
            ]
          },
          "metadata": {},
          "execution_count": 22
        }
      ]
    },
    {
      "cell_type": "code",
      "source": [
        "fruits[::-1]"
      ],
      "metadata": {
        "colab": {
          "base_uri": "https://localhost:8080/"
        },
        "id": "yFCkm_xms9Kp",
        "outputId": "c3f7692c-8725-4ce5-9693-8773f933b116"
      },
      "execution_count": 28,
      "outputs": [
        {
          "output_type": "execute_result",
          "data": {
            "text/plain": [
              "['apple', 'cherry', 'kiwi', 'orange', 'watermelon']"
            ]
          },
          "metadata": {},
          "execution_count": 28
        }
      ]
    },
    {
      "cell_type": "code",
      "source": [
        "fruits.clear() ## Remove all items from the list\n",
        "\n",
        "print(fruits)"
      ],
      "metadata": {
        "colab": {
          "base_uri": "https://localhost:8080/"
        },
        "id": "fBmzA9y9SuXM",
        "outputId": "f161de5b-f684-4f01-a1d9-12c002118459"
      },
      "execution_count": 29,
      "outputs": [
        {
          "output_type": "stream",
          "name": "stdout",
          "text": [
            "[]\n"
          ]
        }
      ]
    },
    {
      "cell_type": "code",
      "source": [
        "## List comprehension\n",
        "\n",
        "\n",
        "[x**2 for x in range(10) if x%2==0]"
      ],
      "metadata": {
        "colab": {
          "base_uri": "https://localhost:8080/"
        },
        "id": "4BTTox1xSwwN",
        "outputId": "1851ac02-5a03-42b3-9981-c9e7910ced5d"
      },
      "execution_count": 31,
      "outputs": [
        {
          "output_type": "execute_result",
          "data": {
            "text/plain": [
              "[0, 4, 16, 36, 64]"
            ]
          },
          "metadata": {},
          "execution_count": 31
        }
      ]
    },
    {
      "cell_type": "markdown",
      "source": [
        "Tuples"
      ],
      "metadata": {
        "id": "sN1Eg3NOV9Yo"
      }
    },
    {
      "cell_type": "code",
      "source": [
        "lst = list([1,2,3,4])"
      ],
      "metadata": {
        "id": "jrWnI1IOTgwV"
      },
      "execution_count": null,
      "outputs": []
    },
    {
      "cell_type": "code",
      "source": [
        "numbers=tuple([1,2,3,4,5,6])\n",
        "numbers"
      ],
      "metadata": {
        "colab": {
          "base_uri": "https://localhost:8080/"
        },
        "id": "72KNZ7sTWECH",
        "outputId": "3994abdc-418d-4cb0-ac4c-99aa69025234"
      },
      "execution_count": 32,
      "outputs": [
        {
          "output_type": "execute_result",
          "data": {
            "text/plain": [
              "(1, 2, 3, 4, 5, 6)"
            ]
          },
          "metadata": {},
          "execution_count": 32
        }
      ]
    },
    {
      "cell_type": "code",
      "source": [
        "mixed_tuple=(1,\"Hello World\",3.14, True)\n",
        "print(mixed_tuple)"
      ],
      "metadata": {
        "colab": {
          "base_uri": "https://localhost:8080/"
        },
        "id": "k5EAD794WEZr",
        "outputId": "70b10fb4-7216-483d-c8b4-3136a7c490ae"
      },
      "execution_count": 33,
      "outputs": [
        {
          "output_type": "stream",
          "name": "stdout",
          "text": [
            "(1, 'Hello World', 3.14, True)\n"
          ]
        }
      ]
    },
    {
      "cell_type": "code",
      "source": [
        "print(numbers[2])\n",
        "print(numbers[-1])"
      ],
      "metadata": {
        "colab": {
          "base_uri": "https://localhost:8080/"
        },
        "id": "Jz8KbLCvWG8-",
        "outputId": "e76f680d-790e-49aa-b675-cf80c00b70b1"
      },
      "execution_count": null,
      "outputs": [
        {
          "output_type": "stream",
          "name": "stdout",
          "text": [
            "3\n",
            "6\n"
          ]
        }
      ]
    },
    {
      "cell_type": "code",
      "source": [
        "## Tuple Operations\n",
        "\n",
        "concatenation_tuple=numbers + mixed_tuple\n",
        "print(concatenation_tuple)"
      ],
      "metadata": {
        "colab": {
          "base_uri": "https://localhost:8080/"
        },
        "id": "GT1Wep0wWJ9A",
        "outputId": "71c9c260-11fa-417e-e1ec-b825b7312792"
      },
      "execution_count": null,
      "outputs": [
        {
          "output_type": "stream",
          "name": "stdout",
          "text": [
            "(1, 2, 3, 4, 5, 6, 1, 'Hello World', 3.14, True)\n"
          ]
        }
      ]
    },
    {
      "cell_type": "code",
      "source": [
        "mixed_tuple*3"
      ],
      "metadata": {
        "colab": {
          "base_uri": "https://localhost:8080/"
        },
        "id": "NDIUvP2NyvTv",
        "outputId": "7d17e1c8-1887-4861-a25f-eca8d2cd0bd1"
      },
      "execution_count": null,
      "outputs": [
        {
          "output_type": "execute_result",
          "data": {
            "text/plain": [
              "(1,\n",
              " 'Hello World',\n",
              " 3.14,\n",
              " True,\n",
              " 1,\n",
              " 'Hello World',\n",
              " 3.14,\n",
              " True,\n",
              " 1,\n",
              " 'Hello World',\n",
              " 3.14,\n",
              " True)"
            ]
          },
          "metadata": {},
          "execution_count": 86
        }
      ]
    },
    {
      "cell_type": "code",
      "source": [
        "lst=[1,2,3,4,5]\n",
        "print(lst)\n",
        "\n",
        "lst[1]=\"Krish\"\n",
        "print(lst)"
      ],
      "metadata": {
        "colab": {
          "base_uri": "https://localhost:8080/"
        },
        "id": "7KfQB_IiWNhs",
        "outputId": "7e0ad62d-6e9f-4222-e715-fefef022d430"
      },
      "execution_count": null,
      "outputs": [
        {
          "output_type": "stream",
          "name": "stdout",
          "text": [
            "[1, 2, 3, 4, 5]\n",
            "[1, 'Krish', 3, 4, 5]\n"
          ]
        }
      ]
    },
    {
      "cell_type": "code",
      "source": [
        "numbers[1]=\"Krish\""
      ],
      "metadata": {
        "colab": {
          "base_uri": "https://localhost:8080/",
          "height": 148
        },
        "id": "MPPcsq_lWRVc",
        "outputId": "dc44ff24-1770-4fda-ee13-092ba4bade25"
      },
      "execution_count": null,
      "outputs": [
        {
          "output_type": "error",
          "ename": "TypeError",
          "evalue": "'tuple' object does not support item assignment",
          "traceback": [
            "\u001b[0;31m---------------------------------------------------------------------------\u001b[0m",
            "\u001b[0;31mTypeError\u001b[0m                                 Traceback (most recent call last)",
            "\u001b[0;32m/tmp/ipython-input-1229818880.py\u001b[0m in \u001b[0;36m<cell line: 0>\u001b[0;34m()\u001b[0m\n\u001b[0;32m----> 1\u001b[0;31m \u001b[0mnumbers\u001b[0m\u001b[0;34m[\u001b[0m\u001b[0;36m1\u001b[0m\u001b[0;34m]\u001b[0m\u001b[0;34m=\u001b[0m\u001b[0;34m\"Krish\"\u001b[0m\u001b[0;34m\u001b[0m\u001b[0;34m\u001b[0m\u001b[0m\n\u001b[0m",
            "\u001b[0;31mTypeError\u001b[0m: 'tuple' object does not support item assignment"
          ]
        }
      ]
    },
    {
      "cell_type": "code",
      "source": [
        "## Packing and Unpacking tuple\n",
        "## packing\n",
        "packed_tuple=(1,\"Hello\",3.14)\n",
        "print(packed_tuple)"
      ],
      "metadata": {
        "colab": {
          "base_uri": "https://localhost:8080/"
        },
        "id": "ySAZLoX0WT5y",
        "outputId": "6c4cfa31-47d9-4d04-b5ac-ca12491a7410"
      },
      "execution_count": 34,
      "outputs": [
        {
          "output_type": "stream",
          "name": "stdout",
          "text": [
            "(1, 'Hello', 3.14)\n"
          ]
        }
      ]
    },
    {
      "cell_type": "code",
      "source": [
        "##unpacking a tuple\n",
        "a,b,c=packed_tuple\n",
        "\n",
        "print(a)\n",
        "print(b)\n",
        "print(c)"
      ],
      "metadata": {
        "colab": {
          "base_uri": "https://localhost:8080/"
        },
        "id": "BZw3NrmWWeHV",
        "outputId": "99b95783-7d56-478a-8b47-f916ea8b5b8a"
      },
      "execution_count": 35,
      "outputs": [
        {
          "output_type": "stream",
          "name": "stdout",
          "text": [
            "1\n",
            "Hello\n",
            "3.14\n"
          ]
        }
      ]
    },
    {
      "cell_type": "code",
      "source": [
        "packed_tuple"
      ],
      "metadata": {
        "colab": {
          "base_uri": "https://localhost:8080/"
        },
        "id": "aJU9KVfgdZe3",
        "outputId": "b7a0629a-aee7-4e35-a5f4-c439cd6d14b2"
      },
      "execution_count": 36,
      "outputs": [
        {
          "output_type": "execute_result",
          "data": {
            "text/plain": [
              "(1, 'Hello', 3.14)"
            ]
          },
          "metadata": {},
          "execution_count": 36
        }
      ]
    },
    {
      "cell_type": "code",
      "source": [
        "## Unpacking with *\n",
        "numbers=(1,2,3,4,5,6)\n",
        "first,*middle,last = numbers\n",
        "print(first)\n",
        "print(middle)\n",
        "print(last)"
      ],
      "metadata": {
        "colab": {
          "base_uri": "https://localhost:8080/"
        },
        "id": "qWBwEFXMWg_b",
        "outputId": "46ea0b3f-26b2-4a4c-a6bc-4a8ed4f21d11"
      },
      "execution_count": 37,
      "outputs": [
        {
          "output_type": "stream",
          "name": "stdout",
          "text": [
            "1\n",
            "[2, 3, 4, 5]\n",
            "6\n"
          ]
        }
      ]
    },
    {
      "cell_type": "code",
      "source": [
        "## Nested List\n",
        "lst=[[1,2,3,4],[6,7,8,9],[1,\"Hello\",3.14,\"c\"]]\n",
        "lst[1][1:3]"
      ],
      "metadata": {
        "colab": {
          "base_uri": "https://localhost:8080/"
        },
        "id": "foB5geqbWjBq",
        "outputId": "59f1f53e-392b-4b29-d32e-c1028df9c3f4"
      },
      "execution_count": 38,
      "outputs": [
        {
          "output_type": "execute_result",
          "data": {
            "text/plain": [
              "[7, 8]"
            ]
          },
          "metadata": {},
          "execution_count": 38
        }
      ]
    },
    {
      "cell_type": "code",
      "source": [
        "nested_tuple = ((1, 2, 3), (\"a\", \"b\", \"c\"), (True, False))\n",
        "\n",
        "## access the elements inside a tuple\n",
        "print(nested_tuple[0])\n",
        "print(nested_tuple[1][2])"
      ],
      "metadata": {
        "colab": {
          "base_uri": "https://localhost:8080/"
        },
        "id": "xaygfIqfXJFY",
        "outputId": "b4c72e4a-63d6-4be2-d3d5-dc7359674dd2"
      },
      "execution_count": null,
      "outputs": [
        {
          "output_type": "stream",
          "name": "stdout",
          "text": [
            "(1, 2, 3)\n",
            "c\n"
          ]
        }
      ]
    },
    {
      "cell_type": "markdown",
      "source": [
        "Sets"
      ],
      "metadata": {
        "id": "iDC8Te_nXTVs"
      }
    },
    {
      "cell_type": "code",
      "source": [
        "my_set={1,2,3,4,5} # if empty its a dict\n",
        "print(my_set)\n",
        "print(type(my_set))"
      ],
      "metadata": {
        "colab": {
          "base_uri": "https://localhost:8080/"
        },
        "id": "zr3WOpHFXNaA",
        "outputId": "92522b50-59c7-421d-dbb6-ae8df8ab6ea7"
      },
      "execution_count": 39,
      "outputs": [
        {
          "output_type": "stream",
          "name": "stdout",
          "text": [
            "{1, 2, 3, 4, 5}\n",
            "<class 'set'>\n"
          ]
        }
      ]
    },
    {
      "cell_type": "code",
      "source": [
        "s= set([])"
      ],
      "metadata": {
        "colab": {
          "base_uri": "https://localhost:8080/"
        },
        "id": "FVyq1f-wwd2d",
        "outputId": "3e9bfcfe-b23f-4aec-f589-cbad1c5b2967"
      },
      "execution_count": null,
      "outputs": [
        {
          "output_type": "stream",
          "name": "stdout",
          "text": [
            "<class 'dict'>\n"
          ]
        }
      ]
    },
    {
      "cell_type": "code",
      "source": [
        "my_empty_set=set([1,2,3,6,5,4,5,6]) # Contains unique values\n",
        "print(my_empty_set)"
      ],
      "metadata": {
        "id": "gVHu0O9DXdKB",
        "colab": {
          "base_uri": "https://localhost:8080/"
        },
        "outputId": "4b4ae0ec-cb71-42e7-b719-a9a2d867f286"
      },
      "execution_count": 40,
      "outputs": [
        {
          "output_type": "stream",
          "name": "stdout",
          "text": [
            "{1, 2, 3, 4, 5, 6}\n"
          ]
        }
      ]
    },
    {
      "cell_type": "code",
      "source": [
        "## Basics Sets Operation\n",
        "## Adiing and Removing Elements\n",
        "my_set.add(7)\n",
        "print(my_set)\n",
        "my_set.add(6)\n",
        "print(my_set)"
      ],
      "metadata": {
        "id": "AA0W5KLfXgfi",
        "colab": {
          "base_uri": "https://localhost:8080/"
        },
        "outputId": "8a80d9d6-8688-4e1c-ef77-f114202ac94b"
      },
      "execution_count": 42,
      "outputs": [
        {
          "output_type": "stream",
          "name": "stdout",
          "text": [
            "{1, 2, 3, 4, 5, 7}\n",
            "{1, 2, 3, 4, 5, 6, 7}\n"
          ]
        }
      ]
    },
    {
      "cell_type": "code",
      "source": [
        "# remove\n",
        "my_set.remove(6)\n",
        "my_set"
      ],
      "metadata": {
        "id": "IHNMqpXGXmaM",
        "colab": {
          "base_uri": "https://localhost:8080/",
          "height": 185
        },
        "outputId": "b5f4f25d-5424-4b41-c489-365f4dfed69f"
      },
      "execution_count": 44,
      "outputs": [
        {
          "output_type": "error",
          "ename": "KeyError",
          "evalue": "6",
          "traceback": [
            "\u001b[0;31m---------------------------------------------------------------------------\u001b[0m",
            "\u001b[0;31mKeyError\u001b[0m                                  Traceback (most recent call last)",
            "\u001b[0;32m/tmp/ipython-input-861095791.py\u001b[0m in \u001b[0;36m<cell line: 0>\u001b[0;34m()\u001b[0m\n\u001b[1;32m      1\u001b[0m \u001b[0;31m# remove\u001b[0m\u001b[0;34m\u001b[0m\u001b[0;34m\u001b[0m\u001b[0m\n\u001b[0;32m----> 2\u001b[0;31m \u001b[0mmy_set\u001b[0m\u001b[0;34m.\u001b[0m\u001b[0mremove\u001b[0m\u001b[0;34m(\u001b[0m\u001b[0;36m6\u001b[0m\u001b[0;34m)\u001b[0m\u001b[0;34m\u001b[0m\u001b[0;34m\u001b[0m\u001b[0m\n\u001b[0m\u001b[1;32m      3\u001b[0m \u001b[0mmy_set\u001b[0m\u001b[0;34m\u001b[0m\u001b[0;34m\u001b[0m\u001b[0m\n",
            "\u001b[0;31mKeyError\u001b[0m: 6"
          ]
        }
      ]
    },
    {
      "cell_type": "code",
      "source": [
        "#discard\n",
        "my_set.discard(0)\n",
        "my_set"
      ],
      "metadata": {
        "id": "AaUzcgaRXoh8",
        "colab": {
          "base_uri": "https://localhost:8080/"
        },
        "outputId": "234d93e4-060e-48a3-8876-3c8ceadc490d"
      },
      "execution_count": 46,
      "outputs": [
        {
          "output_type": "execute_result",
          "data": {
            "text/plain": [
              "{1, 2, 3, 4, 5}"
            ]
          },
          "metadata": {},
          "execution_count": 46
        }
      ]
    },
    {
      "cell_type": "code",
      "source": [
        "my_set"
      ],
      "metadata": {
        "colab": {
          "base_uri": "https://localhost:8080/"
        },
        "id": "TPbPnmfxxJkw",
        "outputId": "0b09480d-c463-49b2-a9f1-b04a2074a5bc"
      },
      "execution_count": null,
      "outputs": [
        {
          "output_type": "execute_result",
          "data": {
            "text/plain": [
              "{1, 2, 3, 4}"
            ]
          },
          "metadata": {},
          "execution_count": 99
        }
      ]
    },
    {
      "cell_type": "code",
      "source": [
        "### Counting Unique words in text\n",
        "text=\"In this tutorial we are discussing about sets this we are \"\n",
        "words = text.split()\n",
        "print(words)\n",
        "uni = set(words)\n",
        "print(len(uni))\n",
        "print(uni)"
      ],
      "metadata": {
        "id": "gH8YjEdZXpmG",
        "colab": {
          "base_uri": "https://localhost:8080/"
        },
        "outputId": "80facc2d-1b22-4e7a-eb77-e18e96fdc2ee"
      },
      "execution_count": 50,
      "outputs": [
        {
          "output_type": "stream",
          "name": "stdout",
          "text": [
            "['In', 'this', 'tutorial', 'we', 'are', 'discussing', 'about', 'sets', 'this', 'we', 'are']\n",
            "8\n",
            "{'discussing', 'we', 'In', 'about', 'tutorial', 'this', 'are', 'sets'}\n"
          ]
        }
      ]
    },
    {
      "cell_type": "markdown",
      "source": [
        "Dictionary"
      ],
      "metadata": {
        "id": "LXLSg50hYFvC"
      }
    },
    {
      "cell_type": "code",
      "source": [
        "student={\"name\":\"Krish\",\"age\":32,\"grade\":24}\n",
        "print(student)\n",
        "print(type(student))"
      ],
      "metadata": {
        "colab": {
          "base_uri": "https://localhost:8080/"
        },
        "id": "o0HBiIzAYDWa",
        "outputId": "5b9a17e3-2404-4b3e-e27d-87d485ee5cbe"
      },
      "execution_count": null,
      "outputs": [
        {
          "output_type": "stream",
          "name": "stdout",
          "text": [
            "{'name': 'Krish', 'age': 32, 'grade': 24}\n",
            "<class 'dict'>\n"
          ]
        }
      ]
    },
    {
      "cell_type": "code",
      "source": [
        "# Single key is slways used\n",
        "student={\"name\":\"Krish\",\"age\":32,\"grade\":24,\"name\":\"gfg\"}\n",
        "print(student)"
      ],
      "metadata": {
        "id": "DVBiqfDEYLAY",
        "colab": {
          "base_uri": "https://localhost:8080/"
        },
        "outputId": "db1839de-e127-485b-e4bf-1807c43ab40f"
      },
      "execution_count": 51,
      "outputs": [
        {
          "output_type": "stream",
          "name": "stdout",
          "text": [
            "{'name': 'gfg', 'age': 32, 'grade': 24}\n"
          ]
        }
      ]
    },
    {
      "cell_type": "code",
      "source": [
        "## accessing Dictionary Elements\n",
        "student[\"gfg\"]"
      ],
      "metadata": {
        "id": "o1HMPveTYnmF",
        "colab": {
          "base_uri": "https://localhost:8080/",
          "height": 166
        },
        "outputId": "1b234b9c-d93c-48bd-c0cd-e54f6b6f8777"
      },
      "execution_count": 54,
      "outputs": [
        {
          "output_type": "error",
          "ename": "KeyError",
          "evalue": "'gfg'",
          "traceback": [
            "\u001b[0;31m---------------------------------------------------------------------------\u001b[0m",
            "\u001b[0;31mKeyError\u001b[0m                                  Traceback (most recent call last)",
            "\u001b[0;32m/tmp/ipython-input-2478585089.py\u001b[0m in \u001b[0;36m<cell line: 0>\u001b[0;34m()\u001b[0m\n\u001b[1;32m      1\u001b[0m \u001b[0;31m## accessing Dictionary Elements\u001b[0m\u001b[0;34m\u001b[0m\u001b[0;34m\u001b[0m\u001b[0m\n\u001b[0;32m----> 2\u001b[0;31m \u001b[0mstudent\u001b[0m\u001b[0;34m[\u001b[0m\u001b[0;34m\"gfg\"\u001b[0m\u001b[0;34m]\u001b[0m\u001b[0;34m\u001b[0m\u001b[0;34m\u001b[0m\u001b[0m\n\u001b[0m",
            "\u001b[0;31mKeyError\u001b[0m: 'gfg'"
          ]
        }
      ]
    },
    {
      "cell_type": "code",
      "source": [
        "## Accessing using get() method\n",
        "student.get(\"name\",\"not present\")"
      ],
      "metadata": {
        "id": "fOwXM1BOYpeb",
        "colab": {
          "base_uri": "https://localhost:8080/",
          "height": 36
        },
        "outputId": "5cf0124a-7c29-4d3d-844e-cfe6f1ecbc61"
      },
      "execution_count": 58,
      "outputs": [
        {
          "output_type": "execute_result",
          "data": {
            "text/plain": [
              "'gfg'"
            ],
            "application/vnd.google.colaboratory.intrinsic+json": {
              "type": "string"
            }
          },
          "metadata": {},
          "execution_count": 58
        }
      ]
    },
    {
      "cell_type": "code",
      "source": [
        "student[\"age\"]=33  ##update value for the key\n",
        "print(student)\n",
        "student[\"address\"]=\"India\" ## added a new key and value\n",
        "print(student)"
      ],
      "metadata": {
        "id": "OHUf2EEiZ2Uv",
        "colab": {
          "base_uri": "https://localhost:8080/"
        },
        "outputId": "690959a8-bb43-488d-bc28-9e8ac754b8b3"
      },
      "execution_count": 59,
      "outputs": [
        {
          "output_type": "stream",
          "name": "stdout",
          "text": [
            "{'name': 'gfg', 'age': 33, 'grade': 24}\n",
            "{'name': 'gfg', 'age': 33, 'grade': 24, 'address': 'India'}\n"
          ]
        }
      ]
    },
    {
      "cell_type": "code",
      "source": [
        "del student['grade'] ## delete key and value pair"
      ],
      "metadata": {
        "id": "enuPzVZ_Z3q6"
      },
      "execution_count": 60,
      "outputs": []
    },
    {
      "cell_type": "code",
      "source": [
        "# keys and values function\n",
        "print(student.items())\n"
      ],
      "metadata": {
        "id": "yohgdxMhZ62S",
        "colab": {
          "base_uri": "https://localhost:8080/"
        },
        "outputId": "7c4133c9-6f07-479e-83f4-d799ce367d5c"
      },
      "execution_count": 63,
      "outputs": [
        {
          "output_type": "stream",
          "name": "stdout",
          "text": [
            "dict_items([('name', 'gfg'), ('age', 33), ('address', 'India')])\n"
          ]
        }
      ]
    },
    {
      "cell_type": "code",
      "source": [
        "# nested dictionaries\n",
        "## Nested Disctionaries\n",
        "students={\n",
        "    \"student1\":{\"name\":\"Krish\",\"age\":32},\n",
        "    \"student2\":{\"name\":\"Peter\",\"age\":35}\n",
        "}\n",
        "print(students)"
      ],
      "metadata": {
        "id": "8GTz_yosaDsa",
        "colab": {
          "base_uri": "https://localhost:8080/"
        },
        "outputId": "608f4a98-6a0a-4298-a319-e20c4fb653e0"
      },
      "execution_count": null,
      "outputs": [
        {
          "output_type": "stream",
          "name": "stdout",
          "text": [
            "{'student1': {'name': 'Krish', 'age': 32}, 'student2': {'name': 'Peter', 'age': 35}}\n"
          ]
        }
      ]
    },
    {
      "cell_type": "code",
      "source": [
        "## Practical Examples\n",
        "\n",
        "## USe a dictionary to count the frequency of elements in list\n",
        "numbers = [1,2,2,3,3,3,4,4,5,5,6,6,6]\n",
        "frequency = {}\n",
        "for i in numbers:\n",
        "  if i in frequency:   # {1:1,2:2}\n",
        "    frequency[i]+=1\n",
        "  else:\n",
        "    frequency[i]=1\n",
        "print(frequency)"
      ],
      "metadata": {
        "id": "82msp_rdaJP3",
        "colab": {
          "base_uri": "https://localhost:8080/"
        },
        "outputId": "3bc48889-0af2-461b-b8ee-b5f46047a3c0"
      },
      "execution_count": 65,
      "outputs": [
        {
          "output_type": "stream",
          "name": "stdout",
          "text": [
            "{1: 1, 2: 2, 3: 3, 4: 2, 5: 2, 6: 3}\n"
          ]
        }
      ]
    },
    {
      "cell_type": "code",
      "source": [
        "# find unique common elements\n",
        "list1 = [1, 2, 3, 4, 5, 6, 7, 2]\n",
        "list2 = [5, 6, 7, 8, 9, 10, 6]"
      ],
      "metadata": {
        "id": "Urj6zUb0aevT",
        "colab": {
          "base_uri": "https://localhost:8080/"
        },
        "outputId": "97a8f958-944b-4d82-c88b-d5298a94ad5e"
      },
      "execution_count": null,
      "outputs": [
        {
          "output_type": "stream",
          "name": "stdout",
          "text": [
            "{5, 6, 7}\n"
          ]
        }
      ]
    },
    {
      "cell_type": "code",
      "source": [
        "# Write a program to count the frequency of each character in a given string and store it in a dictionary. Ignore spaces.\n",
        "# Example Input:\n",
        "text = \"hello world\""
      ],
      "metadata": {
        "id": "QJLZfQ3abDyg"
      },
      "execution_count": null,
      "outputs": []
    },
    {
      "cell_type": "markdown",
      "source": [],
      "metadata": {
        "id": "QDRzlnxTbfZr"
      }
    },
    {
      "cell_type": "markdown",
      "source": [
        "# Numpy"
      ],
      "metadata": {
        "id": "gb36YIhmb-I2"
      }
    },
    {
      "cell_type": "code",
      "source": [
        "!pip install numpy"
      ],
      "metadata": {
        "id": "y8iC3jTNcYHC",
        "colab": {
          "base_uri": "https://localhost:8080/"
        },
        "outputId": "6e542c80-5958-4c21-a38c-860300f6464f"
      },
      "execution_count": null,
      "outputs": [
        {
          "output_type": "stream",
          "name": "stdout",
          "text": [
            "Requirement already satisfied: numpy in /usr/local/lib/python3.12/dist-packages (2.0.2)\n"
          ]
        }
      ]
    },
    {
      "cell_type": "code",
      "source": [
        "import numpy as np"
      ],
      "metadata": {
        "id": "C6l07pmxcePP"
      },
      "execution_count": null,
      "outputs": []
    },
    {
      "cell_type": "code",
      "source": [
        "lst = [[1,2,3],\n",
        "       [4,5,6],\n",
        "       [7,8,9]]\n",
        "lst"
      ],
      "metadata": {
        "id": "_qCLZ1epceSy",
        "colab": {
          "base_uri": "https://localhost:8080/"
        },
        "outputId": "30813411-4112-431b-e5b4-ac32a240fc00"
      },
      "execution_count": null,
      "outputs": [
        {
          "output_type": "execute_result",
          "data": {
            "text/plain": [
              "[[1, 2, 3], [4, 5, 6], [7, 8, 9]]"
            ]
          },
          "metadata": {},
          "execution_count": 67
        }
      ]
    },
    {
      "cell_type": "code",
      "source": [
        "arr = np.array(lst)\n",
        "arr"
      ],
      "metadata": {
        "id": "N0qH6NiNchZE",
        "colab": {
          "base_uri": "https://localhost:8080/"
        },
        "outputId": "1a1667c8-05cd-40fe-f17b-76960cc74fb2"
      },
      "execution_count": null,
      "outputs": [
        {
          "output_type": "execute_result",
          "data": {
            "text/plain": [
              "array([[1, 2, 3],\n",
              "       [4, 5, 6],\n",
              "       [7, 8, 9]])"
            ]
          },
          "metadata": {},
          "execution_count": 68
        }
      ]
    },
    {
      "cell_type": "code",
      "source": [
        "arr.ndim #for dimension of array"
      ],
      "metadata": {
        "id": "jEQs4abRcn8A",
        "colab": {
          "base_uri": "https://localhost:8080/"
        },
        "outputId": "c55d79c9-2782-4d1c-c895-6b4dd1fa8f6e"
      },
      "execution_count": null,
      "outputs": [
        {
          "output_type": "execute_result",
          "data": {
            "text/plain": [
              "2"
            ]
          },
          "metadata": {},
          "execution_count": 69
        }
      ]
    },
    {
      "cell_type": "code",
      "source": [
        "arr.shape"
      ],
      "metadata": {
        "id": "2sURIeXKcrAX",
        "colab": {
          "base_uri": "https://localhost:8080/"
        },
        "outputId": "980a0a20-b2f5-4ee7-f056-85b662f3cf48"
      },
      "execution_count": null,
      "outputs": [
        {
          "output_type": "execute_result",
          "data": {
            "text/plain": [
              "(3, 3)"
            ]
          },
          "metadata": {},
          "execution_count": 70
        }
      ]
    },
    {
      "cell_type": "code",
      "source": [
        "arr.size"
      ],
      "metadata": {
        "id": "Nz2PrJKXcrEJ",
        "colab": {
          "base_uri": "https://localhost:8080/"
        },
        "outputId": "e9e92591-07f9-4265-c7a1-fb80afe585c6"
      },
      "execution_count": null,
      "outputs": [
        {
          "output_type": "execute_result",
          "data": {
            "text/plain": [
              "9"
            ]
          },
          "metadata": {},
          "execution_count": 71
        }
      ]
    },
    {
      "cell_type": "code",
      "source": [
        "# zero and ones array\n"
      ],
      "metadata": {
        "id": "8h7WWlmfcrHH",
        "colab": {
          "base_uri": "https://localhost:8080/"
        },
        "outputId": "917c6bdb-f5c4-4095-bac4-edea26a4d5dd"
      },
      "execution_count": null,
      "outputs": [
        {
          "output_type": "execute_result",
          "data": {
            "text/plain": [
              "array([[0., 0., 0.],\n",
              "       [0., 0., 0.]])"
            ]
          },
          "metadata": {},
          "execution_count": 72
        }
      ]
    },
    {
      "cell_type": "code",
      "source": [],
      "metadata": {
        "colab": {
          "base_uri": "https://localhost:8080/"
        },
        "id": "bVmUq_Joc8VH",
        "outputId": "86dba125-13fa-4759-e988-cb6edacdb29f"
      },
      "execution_count": null,
      "outputs": [
        {
          "output_type": "execute_result",
          "data": {
            "text/plain": [
              "array([[1., 1., 1.],\n",
              "       [1., 1., 1.],\n",
              "       [1., 1., 1.],\n",
              "       [1., 1., 1.]])"
            ]
          },
          "metadata": {},
          "execution_count": 73
        }
      ]
    },
    {
      "cell_type": "code",
      "source": [
        "# random function\n",
        "np.random.random(3,3)\n"
      ],
      "metadata": {
        "id": "1EIjZbdDcrJz",
        "colab": {
          "base_uri": "https://localhost:8080/"
        },
        "outputId": "4b94475b-5671-431e-8e3f-88d5bc94e63f"
      },
      "execution_count": null,
      "outputs": [
        {
          "output_type": "execute_result",
          "data": {
            "text/plain": [
              "array([[0.9664926 , 0.80839658, 0.59613577],\n",
              "       [0.30791778, 0.70495566, 0.92666656],\n",
              "       [0.01913252, 0.12098327, 0.15817355]])"
            ]
          },
          "metadata": {},
          "execution_count": 75
        }
      ]
    },
    {
      "cell_type": "code",
      "source": [
        "np.random.randint(6)"
      ],
      "metadata": {
        "id": "-gKa0-UYcrMX",
        "colab": {
          "base_uri": "https://localhost:8080/"
        },
        "outputId": "e772af89-16cb-4223-af8e-753bbeda65be"
      },
      "execution_count": null,
      "outputs": [
        {
          "output_type": "execute_result",
          "data": {
            "text/plain": [
              "0"
            ]
          },
          "metadata": {},
          "execution_count": 94
        }
      ]
    },
    {
      "cell_type": "code",
      "source": [
        "# arange\n",
        "np.arange(1,10,5)"
      ],
      "metadata": {
        "id": "dSGdSre4crO7",
        "colab": {
          "base_uri": "https://localhost:8080/"
        },
        "outputId": "6dd03fc2-68ce-47f4-c94a-1e55324ef30a"
      },
      "execution_count": null,
      "outputs": [
        {
          "output_type": "execute_result",
          "data": {
            "text/plain": [
              "array([1, 6])"
            ]
          },
          "metadata": {},
          "execution_count": 96
        }
      ]
    },
    {
      "cell_type": "code",
      "source": [
        "# linspace\n",
        "np.linspace(1,10,17)"
      ],
      "metadata": {
        "id": "E70Vg3Q7crR1",
        "colab": {
          "base_uri": "https://localhost:8080/"
        },
        "outputId": "498b2ecd-fda1-41b0-843a-7e7ea64a8aa2"
      },
      "execution_count": null,
      "outputs": [
        {
          "output_type": "execute_result",
          "data": {
            "text/plain": [
              "array([ 1.    ,  1.5625,  2.125 ,  2.6875,  3.25  ,  3.8125,  4.375 ,\n",
              "        4.9375,  5.5   ,  6.0625,  6.625 ,  7.1875,  7.75  ,  8.3125,\n",
              "        8.875 ,  9.4375, 10.    ])"
            ]
          },
          "metadata": {},
          "execution_count": 98
        }
      ]
    },
    {
      "cell_type": "code",
      "source": [
        "# flatten"
      ],
      "metadata": {
        "id": "gQN_kD4_crVT"
      },
      "execution_count": null,
      "outputs": []
    },
    {
      "cell_type": "code",
      "source": [
        "p = np.random.random((3,5))\n",
        "p"
      ],
      "metadata": {
        "id": "TlHdhNL0dsQm"
      },
      "execution_count": null,
      "outputs": []
    },
    {
      "cell_type": "code",
      "source": [
        "# reshape\n",
        "np.reshape(p,(5,3))"
      ],
      "metadata": {
        "id": "VWe2A0nMdsTw"
      },
      "execution_count": null,
      "outputs": []
    },
    {
      "cell_type": "code",
      "source": [
        "# identity matrix\n"
      ],
      "metadata": {
        "id": "TeraYKrzdsXF"
      },
      "execution_count": null,
      "outputs": []
    },
    {
      "cell_type": "code",
      "source": [
        "# arr+1"
      ],
      "metadata": {
        "id": "LNKnGB_QeZho"
      },
      "execution_count": null,
      "outputs": []
    },
    {
      "cell_type": "code",
      "source": [
        "int(arr.max())"
      ],
      "metadata": {
        "id": "s5hfWQEJeZlC"
      },
      "execution_count": null,
      "outputs": []
    },
    {
      "cell_type": "code",
      "source": [
        "int(arr.min())"
      ],
      "metadata": {
        "id": "E2yqo0Tfehpo"
      },
      "execution_count": null,
      "outputs": []
    },
    {
      "cell_type": "code",
      "source": [
        "int(arr.sum())"
      ],
      "metadata": {
        "id": "CYmWKKA0ejYr"
      },
      "execution_count": null,
      "outputs": []
    },
    {
      "cell_type": "code",
      "source": [
        "arr.max(axis=0) # column wise"
      ],
      "metadata": {
        "id": "J1epI3Zye-dt"
      },
      "execution_count": null,
      "outputs": []
    },
    {
      "cell_type": "code",
      "source": [
        "arr1 =np.array([[2,5,3],\n",
        "                [4,2,7],\n",
        "                [3,5,9]])\n",
        "arr2 =np.array([[1,9,3],\n",
        "                [2,2,7],\n",
        "                [7,6,3]])"
      ],
      "metadata": {
        "id": "y2f5XW8BfDJP"
      },
      "execution_count": null,
      "outputs": []
    },
    {
      "cell_type": "code",
      "source": [
        "arr3 = arr1+arr2"
      ],
      "metadata": {
        "id": "4nn0g4EEf1wL"
      },
      "execution_count": null,
      "outputs": []
    },
    {
      "cell_type": "code",
      "source": [
        "# sorting"
      ],
      "metadata": {
        "id": "phOC9KM7gA7I"
      },
      "execution_count": null,
      "outputs": []
    },
    {
      "cell_type": "code",
      "source": [
        "# stacking and splitting"
      ],
      "metadata": {
        "id": "5kqgeVEohasm"
      },
      "execution_count": null,
      "outputs": []
    }
  ]
}